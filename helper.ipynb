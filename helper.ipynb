{
 "cells": [
  {
   "cell_type": "code",
   "execution_count": 9,
   "metadata": {},
   "outputs": [],
   "source": [
    "import os, pandas as pd"
   ]
  },
  {
   "cell_type": "code",
   "execution_count": 3,
   "metadata": {},
   "outputs": [],
   "source": [
    "folders = os.listdir('data/simulator_data/track')"
   ]
  },
  {
   "cell_type": "code",
   "execution_count": 7,
   "metadata": {},
   "outputs": [],
   "source": [
    "data_files = []\n",
    "for folder in folders:\n",
    "    data_files.append(os.path.join('data/simulator_data/track',folder, 'driving_log.csv'))"
   ]
  },
  {
   "cell_type": "code",
   "execution_count": 90,
   "metadata": {},
   "outputs": [
    {
     "data": {
      "text/plain": [
       "['data/simulator_data/track/run2/driving_log.csv',\n",
       " 'data/simulator_data/track/run-5/driving_log.csv',\n",
       " 'data/simulator_data/track/run1/driving_log.csv',\n",
       " 'data/simulator_data/track/run4-corners/driving_log.csv',\n",
       " 'data/simulator_data/track/run-6/driving_log.csv',\n",
       " 'data/simulator_data/track/run3-back/driving_log.csv']"
      ]
     },
     "execution_count": 90,
     "metadata": {},
     "output_type": "execute_result"
    }
   ],
   "source": [
    "data_files"
   ]
  },
  {
   "cell_type": "code",
   "execution_count": 16,
   "metadata": {},
   "outputs": [],
   "source": [
    "COL_NAMES = ['center','left','right','steering','throttle','brake','speed']"
   ]
  },
  {
   "cell_type": "code",
   "execution_count": 70,
   "metadata": {},
   "outputs": [],
   "source": [
    "data = pd.read_csv(data_files[0], names = COL_NAMES)"
   ]
  },
  {
   "cell_type": "code",
   "execution_count": 71,
   "metadata": {},
   "outputs": [
    {
     "data": {
      "text/html": [
       "<div>\n",
       "<style scoped>\n",
       "    .dataframe tbody tr th:only-of-type {\n",
       "        vertical-align: middle;\n",
       "    }\n",
       "\n",
       "    .dataframe tbody tr th {\n",
       "        vertical-align: top;\n",
       "    }\n",
       "\n",
       "    .dataframe thead th {\n",
       "        text-align: right;\n",
       "    }\n",
       "</style>\n",
       "<table border=\"1\" class=\"dataframe\">\n",
       "  <thead>\n",
       "    <tr style=\"text-align: right;\">\n",
       "      <th></th>\n",
       "      <th>center</th>\n",
       "      <th>left</th>\n",
       "      <th>right</th>\n",
       "      <th>steering</th>\n",
       "      <th>throttle</th>\n",
       "      <th>brake</th>\n",
       "      <th>speed</th>\n",
       "    </tr>\n",
       "  </thead>\n",
       "  <tbody>\n",
       "    <tr>\n",
       "      <th>0</th>\n",
       "      <td>D:\\simulator_data\\run2\\IMG\\center_2018_05_12_1...</td>\n",
       "      <td>D:\\simulator_data\\run2\\IMG\\left_2018_05_12_16_...</td>\n",
       "      <td>D:\\simulator_data\\run2\\IMG\\right_2018_05_12_16...</td>\n",
       "      <td>-0.064378</td>\n",
       "      <td>1.0</td>\n",
       "      <td>0</td>\n",
       "      <td>30.19027</td>\n",
       "    </tr>\n",
       "    <tr>\n",
       "      <th>1</th>\n",
       "      <td>D:\\simulator_data\\run2\\IMG\\center_2018_05_12_1...</td>\n",
       "      <td>D:\\simulator_data\\run2\\IMG\\left_2018_05_12_16_...</td>\n",
       "      <td>D:\\simulator_data\\run2\\IMG\\right_2018_05_12_16...</td>\n",
       "      <td>-0.064378</td>\n",
       "      <td>1.0</td>\n",
       "      <td>0</td>\n",
       "      <td>30.19024</td>\n",
       "    </tr>\n",
       "    <tr>\n",
       "      <th>2</th>\n",
       "      <td>D:\\simulator_data\\run2\\IMG\\center_2018_05_12_1...</td>\n",
       "      <td>D:\\simulator_data\\run2\\IMG\\left_2018_05_12_16_...</td>\n",
       "      <td>D:\\simulator_data\\run2\\IMG\\right_2018_05_12_16...</td>\n",
       "      <td>-0.064378</td>\n",
       "      <td>1.0</td>\n",
       "      <td>0</td>\n",
       "      <td>30.19022</td>\n",
       "    </tr>\n",
       "    <tr>\n",
       "      <th>3</th>\n",
       "      <td>D:\\simulator_data\\run2\\IMG\\center_2018_05_12_1...</td>\n",
       "      <td>D:\\simulator_data\\run2\\IMG\\left_2018_05_12_16_...</td>\n",
       "      <td>D:\\simulator_data\\run2\\IMG\\right_2018_05_12_16...</td>\n",
       "      <td>-0.064378</td>\n",
       "      <td>1.0</td>\n",
       "      <td>0</td>\n",
       "      <td>30.19008</td>\n",
       "    </tr>\n",
       "    <tr>\n",
       "      <th>4</th>\n",
       "      <td>D:\\simulator_data\\run2\\IMG\\center_2018_05_12_1...</td>\n",
       "      <td>D:\\simulator_data\\run2\\IMG\\left_2018_05_12_16_...</td>\n",
       "      <td>D:\\simulator_data\\run2\\IMG\\right_2018_05_12_16...</td>\n",
       "      <td>-0.038627</td>\n",
       "      <td>1.0</td>\n",
       "      <td>0</td>\n",
       "      <td>30.19044</td>\n",
       "    </tr>\n",
       "  </tbody>\n",
       "</table>\n",
       "</div>"
      ],
      "text/plain": [
       "                                              center  \\\n",
       "0  D:\\simulator_data\\run2\\IMG\\center_2018_05_12_1...   \n",
       "1  D:\\simulator_data\\run2\\IMG\\center_2018_05_12_1...   \n",
       "2  D:\\simulator_data\\run2\\IMG\\center_2018_05_12_1...   \n",
       "3  D:\\simulator_data\\run2\\IMG\\center_2018_05_12_1...   \n",
       "4  D:\\simulator_data\\run2\\IMG\\center_2018_05_12_1...   \n",
       "\n",
       "                                                left  \\\n",
       "0  D:\\simulator_data\\run2\\IMG\\left_2018_05_12_16_...   \n",
       "1  D:\\simulator_data\\run2\\IMG\\left_2018_05_12_16_...   \n",
       "2  D:\\simulator_data\\run2\\IMG\\left_2018_05_12_16_...   \n",
       "3  D:\\simulator_data\\run2\\IMG\\left_2018_05_12_16_...   \n",
       "4  D:\\simulator_data\\run2\\IMG\\left_2018_05_12_16_...   \n",
       "\n",
       "                                               right  steering  throttle  \\\n",
       "0  D:\\simulator_data\\run2\\IMG\\right_2018_05_12_16... -0.064378       1.0   \n",
       "1  D:\\simulator_data\\run2\\IMG\\right_2018_05_12_16... -0.064378       1.0   \n",
       "2  D:\\simulator_data\\run2\\IMG\\right_2018_05_12_16... -0.064378       1.0   \n",
       "3  D:\\simulator_data\\run2\\IMG\\right_2018_05_12_16... -0.064378       1.0   \n",
       "4  D:\\simulator_data\\run2\\IMG\\right_2018_05_12_16... -0.038627       1.0   \n",
       "\n",
       "   brake     speed  \n",
       "0      0  30.19027  \n",
       "1      0  30.19024  \n",
       "2      0  30.19022  \n",
       "3      0  30.19008  \n",
       "4      0  30.19044  "
      ]
     },
     "execution_count": 71,
     "metadata": {},
     "output_type": "execute_result"
    }
   ],
   "source": [
    "data.head()"
   ]
  },
  {
   "cell_type": "code",
   "execution_count": 81,
   "metadata": {},
   "outputs": [],
   "source": [
    "def change_path(df, true_path, last_items_to_use, path_sep=\"\\\\\"):\n",
    "    result = df.copy()\n",
    "    for camera in ['center', 'left', 'right']:\n",
    "        true_paths = []\n",
    "        paths = result[camera].values\n",
    "        for path in paths:\n",
    "            a = os.path.join(true_path, *path.split(path_sep)[-last_items_to_use:])\n",
    "            true_paths.append(a)\n",
    "        result[camera] = true_paths\n",
    "    return result"
   ]
  },
  {
   "cell_type": "code",
   "execution_count": 82,
   "metadata": {},
   "outputs": [],
   "source": [
    "ch_df = change_path(data,'data/simulator_data/track',3 )"
   ]
  },
  {
   "cell_type": "code",
   "execution_count": 83,
   "metadata": {},
   "outputs": [
    {
     "data": {
      "text/html": [
       "<div>\n",
       "<style scoped>\n",
       "    .dataframe tbody tr th:only-of-type {\n",
       "        vertical-align: middle;\n",
       "    }\n",
       "\n",
       "    .dataframe tbody tr th {\n",
       "        vertical-align: top;\n",
       "    }\n",
       "\n",
       "    .dataframe thead th {\n",
       "        text-align: right;\n",
       "    }\n",
       "</style>\n",
       "<table border=\"1\" class=\"dataframe\">\n",
       "  <thead>\n",
       "    <tr style=\"text-align: right;\">\n",
       "      <th></th>\n",
       "      <th>center</th>\n",
       "      <th>left</th>\n",
       "      <th>right</th>\n",
       "      <th>steering</th>\n",
       "      <th>throttle</th>\n",
       "      <th>brake</th>\n",
       "      <th>speed</th>\n",
       "    </tr>\n",
       "  </thead>\n",
       "  <tbody>\n",
       "    <tr>\n",
       "      <th>0</th>\n",
       "      <td>data/simulator_data/track/run2/IMG/center_2018...</td>\n",
       "      <td>data/simulator_data/track/run2/IMG/left_2018_0...</td>\n",
       "      <td>data/simulator_data/track/run2/IMG/right_2018_...</td>\n",
       "      <td>-0.064378</td>\n",
       "      <td>1.0</td>\n",
       "      <td>0</td>\n",
       "      <td>30.19027</td>\n",
       "    </tr>\n",
       "    <tr>\n",
       "      <th>1</th>\n",
       "      <td>data/simulator_data/track/run2/IMG/center_2018...</td>\n",
       "      <td>data/simulator_data/track/run2/IMG/left_2018_0...</td>\n",
       "      <td>data/simulator_data/track/run2/IMG/right_2018_...</td>\n",
       "      <td>-0.064378</td>\n",
       "      <td>1.0</td>\n",
       "      <td>0</td>\n",
       "      <td>30.19024</td>\n",
       "    </tr>\n",
       "    <tr>\n",
       "      <th>2</th>\n",
       "      <td>data/simulator_data/track/run2/IMG/center_2018...</td>\n",
       "      <td>data/simulator_data/track/run2/IMG/left_2018_0...</td>\n",
       "      <td>data/simulator_data/track/run2/IMG/right_2018_...</td>\n",
       "      <td>-0.064378</td>\n",
       "      <td>1.0</td>\n",
       "      <td>0</td>\n",
       "      <td>30.19022</td>\n",
       "    </tr>\n",
       "    <tr>\n",
       "      <th>3</th>\n",
       "      <td>data/simulator_data/track/run2/IMG/center_2018...</td>\n",
       "      <td>data/simulator_data/track/run2/IMG/left_2018_0...</td>\n",
       "      <td>data/simulator_data/track/run2/IMG/right_2018_...</td>\n",
       "      <td>-0.064378</td>\n",
       "      <td>1.0</td>\n",
       "      <td>0</td>\n",
       "      <td>30.19008</td>\n",
       "    </tr>\n",
       "    <tr>\n",
       "      <th>4</th>\n",
       "      <td>data/simulator_data/track/run2/IMG/center_2018...</td>\n",
       "      <td>data/simulator_data/track/run2/IMG/left_2018_0...</td>\n",
       "      <td>data/simulator_data/track/run2/IMG/right_2018_...</td>\n",
       "      <td>-0.038627</td>\n",
       "      <td>1.0</td>\n",
       "      <td>0</td>\n",
       "      <td>30.19044</td>\n",
       "    </tr>\n",
       "  </tbody>\n",
       "</table>\n",
       "</div>"
      ],
      "text/plain": [
       "                                              center  \\\n",
       "0  data/simulator_data/track/run2/IMG/center_2018...   \n",
       "1  data/simulator_data/track/run2/IMG/center_2018...   \n",
       "2  data/simulator_data/track/run2/IMG/center_2018...   \n",
       "3  data/simulator_data/track/run2/IMG/center_2018...   \n",
       "4  data/simulator_data/track/run2/IMG/center_2018...   \n",
       "\n",
       "                                                left  \\\n",
       "0  data/simulator_data/track/run2/IMG/left_2018_0...   \n",
       "1  data/simulator_data/track/run2/IMG/left_2018_0...   \n",
       "2  data/simulator_data/track/run2/IMG/left_2018_0...   \n",
       "3  data/simulator_data/track/run2/IMG/left_2018_0...   \n",
       "4  data/simulator_data/track/run2/IMG/left_2018_0...   \n",
       "\n",
       "                                               right  steering  throttle  \\\n",
       "0  data/simulator_data/track/run2/IMG/right_2018_... -0.064378       1.0   \n",
       "1  data/simulator_data/track/run2/IMG/right_2018_... -0.064378       1.0   \n",
       "2  data/simulator_data/track/run2/IMG/right_2018_... -0.064378       1.0   \n",
       "3  data/simulator_data/track/run2/IMG/right_2018_... -0.064378       1.0   \n",
       "4  data/simulator_data/track/run2/IMG/right_2018_... -0.038627       1.0   \n",
       "\n",
       "   brake     speed  \n",
       "0      0  30.19027  \n",
       "1      0  30.19024  \n",
       "2      0  30.19022  \n",
       "3      0  30.19008  \n",
       "4      0  30.19044  "
      ]
     },
     "execution_count": 83,
     "metadata": {},
     "output_type": "execute_result"
    }
   ],
   "source": [
    "ch_df.head()"
   ]
  },
  {
   "cell_type": "code",
   "execution_count": 92,
   "metadata": {},
   "outputs": [],
   "source": [
    "df = None\n",
    "for file in data_files:\n",
    "    data = pd.read_csv(file, names = COL_NAMES)\n",
    "    ch_df = change_path(data, 'data/simulator_data/track', 3)\n",
    "    if df is None:\n",
    "        df = ch_df\n",
    "    else:\n",
    "        df = pd.concat([df, ch_df], ignore_index=True)"
   ]
  },
  {
   "cell_type": "code",
   "execution_count": 93,
   "metadata": {},
   "outputs": [
    {
     "name": "stdout",
     "output_type": "stream",
     "text": [
      "<class 'pandas.core.frame.DataFrame'>\n",
      "RangeIndex: 32021 entries, 0 to 32020\n",
      "Data columns (total 7 columns):\n",
      "center      32021 non-null object\n",
      "left        32021 non-null object\n",
      "right       32021 non-null object\n",
      "steering    32021 non-null float64\n",
      "throttle    32021 non-null float64\n",
      "brake       32021 non-null float64\n",
      "speed       32021 non-null float64\n",
      "dtypes: float64(4), object(3)\n",
      "memory usage: 1.7+ MB\n"
     ]
    }
   ],
   "source": [
    "df.info()"
   ]
  },
  {
   "cell_type": "code",
   "execution_count": 94,
   "metadata": {},
   "outputs": [],
   "source": [
    "df.to_csv('data/simulator_data/track_data.csv')"
   ]
  },
  {
   "cell_type": "code",
   "execution_count": 106,
   "metadata": {},
   "outputs": [],
   "source": [
    "def make_csv_from_several(root_dir, items_to_use, saving_name,\n",
    "                          data_file_name = 'driving_log.csv',\n",
    "                          col_names = ['center','left','right','steering','throttle','brake','speed'],\n",
    "                         path_sep='\\\\'):\n",
    "    folders = os.listdir(root_dir)\n",
    "    data_files = []\n",
    "    for folder in folders:\n",
    "        data_files.append(os.path.join(root_dir, folder, data_file_name))\n",
    "    df = None\n",
    "    for file in data_files:\n",
    "        data = pd.read_csv(file, names = COL_NAMES)\n",
    "        ch_df = change_path(data, root_dir, items_to_use, path_sep=path_sep)\n",
    "        if df is None:\n",
    "            df = ch_df\n",
    "        else:\n",
    "            df = pd.concat([df, ch_df], ignore_index=True)\n",
    "    df.to_csv(saving_name, index=False)"
   ]
  },
  {
   "cell_type": "code",
   "execution_count": 100,
   "metadata": {},
   "outputs": [],
   "source": [
    "make_csv_from_several('data/simulator_data/jungle', 3, 'data/simulator_data/jungle_data.csv')"
   ]
  },
  {
   "cell_type": "code",
   "execution_count": 101,
   "metadata": {},
   "outputs": [],
   "source": [
    "j_df = pd.read_csv('data/simulator_data/jungle_data.csv')"
   ]
  },
  {
   "cell_type": "code",
   "execution_count": 103,
   "metadata": {},
   "outputs": [],
   "source": [
    "make_csv_from_several('data/simulator_data/track', 3, 'data/simulator_data/track_data.csv')"
   ]
  },
  {
   "cell_type": "code",
   "execution_count": 104,
   "metadata": {},
   "outputs": [],
   "source": [
    "t_df = pd.read_csv('data/simulator_data/track_data.csv')"
   ]
  },
  {
   "cell_type": "code",
   "execution_count": 105,
   "metadata": {},
   "outputs": [
    {
     "data": {
      "text/html": [
       "<div>\n",
       "<style scoped>\n",
       "    .dataframe tbody tr th:only-of-type {\n",
       "        vertical-align: middle;\n",
       "    }\n",
       "\n",
       "    .dataframe tbody tr th {\n",
       "        vertical-align: top;\n",
       "    }\n",
       "\n",
       "    .dataframe thead th {\n",
       "        text-align: right;\n",
       "    }\n",
       "</style>\n",
       "<table border=\"1\" class=\"dataframe\">\n",
       "  <thead>\n",
       "    <tr style=\"text-align: right;\">\n",
       "      <th></th>\n",
       "      <th>center</th>\n",
       "      <th>left</th>\n",
       "      <th>right</th>\n",
       "      <th>steering</th>\n",
       "      <th>throttle</th>\n",
       "      <th>brake</th>\n",
       "      <th>speed</th>\n",
       "    </tr>\n",
       "  </thead>\n",
       "  <tbody>\n",
       "    <tr>\n",
       "      <th>0</th>\n",
       "      <td>data/simulator_data/track/run2/IMG/center_2018...</td>\n",
       "      <td>data/simulator_data/track/run2/IMG/left_2018_0...</td>\n",
       "      <td>data/simulator_data/track/run2/IMG/right_2018_...</td>\n",
       "      <td>-0.064378</td>\n",
       "      <td>1.0</td>\n",
       "      <td>0.0</td>\n",
       "      <td>30.19027</td>\n",
       "    </tr>\n",
       "    <tr>\n",
       "      <th>1</th>\n",
       "      <td>data/simulator_data/track/run2/IMG/center_2018...</td>\n",
       "      <td>data/simulator_data/track/run2/IMG/left_2018_0...</td>\n",
       "      <td>data/simulator_data/track/run2/IMG/right_2018_...</td>\n",
       "      <td>-0.064378</td>\n",
       "      <td>1.0</td>\n",
       "      <td>0.0</td>\n",
       "      <td>30.19024</td>\n",
       "    </tr>\n",
       "    <tr>\n",
       "      <th>2</th>\n",
       "      <td>data/simulator_data/track/run2/IMG/center_2018...</td>\n",
       "      <td>data/simulator_data/track/run2/IMG/left_2018_0...</td>\n",
       "      <td>data/simulator_data/track/run2/IMG/right_2018_...</td>\n",
       "      <td>-0.064378</td>\n",
       "      <td>1.0</td>\n",
       "      <td>0.0</td>\n",
       "      <td>30.19022</td>\n",
       "    </tr>\n",
       "    <tr>\n",
       "      <th>3</th>\n",
       "      <td>data/simulator_data/track/run2/IMG/center_2018...</td>\n",
       "      <td>data/simulator_data/track/run2/IMG/left_2018_0...</td>\n",
       "      <td>data/simulator_data/track/run2/IMG/right_2018_...</td>\n",
       "      <td>-0.064378</td>\n",
       "      <td>1.0</td>\n",
       "      <td>0.0</td>\n",
       "      <td>30.19008</td>\n",
       "    </tr>\n",
       "    <tr>\n",
       "      <th>4</th>\n",
       "      <td>data/simulator_data/track/run2/IMG/center_2018...</td>\n",
       "      <td>data/simulator_data/track/run2/IMG/left_2018_0...</td>\n",
       "      <td>data/simulator_data/track/run2/IMG/right_2018_...</td>\n",
       "      <td>-0.038627</td>\n",
       "      <td>1.0</td>\n",
       "      <td>0.0</td>\n",
       "      <td>30.19044</td>\n",
       "    </tr>\n",
       "  </tbody>\n",
       "</table>\n",
       "</div>"
      ],
      "text/plain": [
       "                                              center  \\\n",
       "0  data/simulator_data/track/run2/IMG/center_2018...   \n",
       "1  data/simulator_data/track/run2/IMG/center_2018...   \n",
       "2  data/simulator_data/track/run2/IMG/center_2018...   \n",
       "3  data/simulator_data/track/run2/IMG/center_2018...   \n",
       "4  data/simulator_data/track/run2/IMG/center_2018...   \n",
       "\n",
       "                                                left  \\\n",
       "0  data/simulator_data/track/run2/IMG/left_2018_0...   \n",
       "1  data/simulator_data/track/run2/IMG/left_2018_0...   \n",
       "2  data/simulator_data/track/run2/IMG/left_2018_0...   \n",
       "3  data/simulator_data/track/run2/IMG/left_2018_0...   \n",
       "4  data/simulator_data/track/run2/IMG/left_2018_0...   \n",
       "\n",
       "                                               right  steering  throttle  \\\n",
       "0  data/simulator_data/track/run2/IMG/right_2018_... -0.064378       1.0   \n",
       "1  data/simulator_data/track/run2/IMG/right_2018_... -0.064378       1.0   \n",
       "2  data/simulator_data/track/run2/IMG/right_2018_... -0.064378       1.0   \n",
       "3  data/simulator_data/track/run2/IMG/right_2018_... -0.064378       1.0   \n",
       "4  data/simulator_data/track/run2/IMG/right_2018_... -0.038627       1.0   \n",
       "\n",
       "   brake     speed  \n",
       "0    0.0  30.19027  \n",
       "1    0.0  30.19024  \n",
       "2    0.0  30.19022  \n",
       "3    0.0  30.19008  \n",
       "4    0.0  30.19044  "
      ]
     },
     "execution_count": 105,
     "metadata": {},
     "output_type": "execute_result"
    }
   ],
   "source": [
    "t_df.head()"
   ]
  },
  {
   "cell_type": "code",
   "execution_count": null,
   "metadata": {},
   "outputs": [],
   "source": []
  }
 ],
 "metadata": {
  "kernelspec": {
   "display_name": "Python 3",
   "language": "python",
   "name": "python3"
  },
  "language_info": {
   "codemirror_mode": {
    "name": "ipython",
    "version": 3
   },
   "file_extension": ".py",
   "mimetype": "text/x-python",
   "name": "python",
   "nbconvert_exporter": "python",
   "pygments_lexer": "ipython3",
   "version": "3.6.4"
  }
 },
 "nbformat": 4,
 "nbformat_minor": 2
}
