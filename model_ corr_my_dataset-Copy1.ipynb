{
 "cells": [
  {
   "cell_type": "code",
   "execution_count": 1,
   "metadata": {},
   "outputs": [
    {
     "name": "stderr",
     "output_type": "stream",
     "text": [
      "/home/ubuntu/anaconda3/envs/tensorflow_p36/lib/python3.6/site-packages/matplotlib/__init__.py:1067: UserWarning: Duplicate key in file \"/home/ubuntu/.config/matplotlib/matplotlibrc\", line #2\n",
      "  (fname, cnt))\n",
      "/home/ubuntu/anaconda3/envs/tensorflow_p36/lib/python3.6/site-packages/matplotlib/__init__.py:1067: UserWarning: Duplicate key in file \"/home/ubuntu/.config/matplotlib/matplotlibrc\", line #3\n",
      "  (fname, cnt))\n",
      "/home/ubuntu/anaconda3/envs/tensorflow_p36/lib/python3.6/site-packages/h5py/__init__.py:36: FutureWarning: Conversion of the second argument of issubdtype from `float` to `np.floating` is deprecated. In future, it will be treated as `np.float64 == np.dtype(float).type`.\n",
      "  from ._conv import register_converters as _register_converters\n",
      "Using TensorFlow backend.\n"
     ]
    }
   ],
   "source": [
    "import pandas as pd\n",
    "import sklearn\n",
    "import numpy as np\n",
    "import matplotlib.pyplot as plt\n",
    "import keras as K\n",
    "import tensorflow as tf\n",
    "import os, json\n",
    "from scipy import misc\n",
    "import cv2\n",
    "import pickle"
   ]
  },
  {
   "cell_type": "code",
   "execution_count": 2,
   "metadata": {},
   "outputs": [],
   "source": [
    "from cnn_builder import get_model"
   ]
  },
  {
   "cell_type": "code",
   "execution_count": 3,
   "metadata": {},
   "outputs": [],
   "source": [
    "IMAGE_DATA_PATH = './data/simulator_data'"
   ]
  },
  {
   "cell_type": "code",
   "execution_count": 4,
   "metadata": {},
   "outputs": [],
   "source": [
    "image_data = pd.read_csv(os.path.join(IMAGE_DATA_PATH, 'track_data.csv'))"
   ]
  },
  {
   "cell_type": "code",
   "execution_count": 5,
   "metadata": {},
   "outputs": [
    {
     "name": "stdout",
     "output_type": "stream",
     "text": [
      "<class 'pandas.core.frame.DataFrame'>\n",
      "RangeIndex: 32021 entries, 0 to 32020\n",
      "Data columns (total 7 columns):\n",
      "center      32021 non-null object\n",
      "left        32021 non-null object\n",
      "right       32021 non-null object\n",
      "steering    32021 non-null float64\n",
      "throttle    32021 non-null float64\n",
      "brake       32021 non-null float64\n",
      "speed       32021 non-null float64\n",
      "dtypes: float64(4), object(3)\n",
      "memory usage: 1.7+ MB\n"
     ]
    }
   ],
   "source": [
    "image_data.info()"
   ]
  },
  {
   "cell_type": "code",
   "execution_count": 6,
   "metadata": {},
   "outputs": [
    {
     "data": {
      "text/html": [
       "<div>\n",
       "<style scoped>\n",
       "    .dataframe tbody tr th:only-of-type {\n",
       "        vertical-align: middle;\n",
       "    }\n",
       "\n",
       "    .dataframe tbody tr th {\n",
       "        vertical-align: top;\n",
       "    }\n",
       "\n",
       "    .dataframe thead th {\n",
       "        text-align: right;\n",
       "    }\n",
       "</style>\n",
       "<table border=\"1\" class=\"dataframe\">\n",
       "  <thead>\n",
       "    <tr style=\"text-align: right;\">\n",
       "      <th></th>\n",
       "      <th>center</th>\n",
       "      <th>left</th>\n",
       "      <th>right</th>\n",
       "      <th>steering</th>\n",
       "      <th>throttle</th>\n",
       "      <th>brake</th>\n",
       "      <th>speed</th>\n",
       "    </tr>\n",
       "  </thead>\n",
       "  <tbody>\n",
       "    <tr>\n",
       "      <th>0</th>\n",
       "      <td>data/simulator_data/track/run2/IMG/center_2018...</td>\n",
       "      <td>data/simulator_data/track/run2/IMG/left_2018_0...</td>\n",
       "      <td>data/simulator_data/track/run2/IMG/right_2018_...</td>\n",
       "      <td>-0.064378</td>\n",
       "      <td>1.0</td>\n",
       "      <td>0.0</td>\n",
       "      <td>30.19027</td>\n",
       "    </tr>\n",
       "    <tr>\n",
       "      <th>1</th>\n",
       "      <td>data/simulator_data/track/run2/IMG/center_2018...</td>\n",
       "      <td>data/simulator_data/track/run2/IMG/left_2018_0...</td>\n",
       "      <td>data/simulator_data/track/run2/IMG/right_2018_...</td>\n",
       "      <td>-0.064378</td>\n",
       "      <td>1.0</td>\n",
       "      <td>0.0</td>\n",
       "      <td>30.19024</td>\n",
       "    </tr>\n",
       "    <tr>\n",
       "      <th>2</th>\n",
       "      <td>data/simulator_data/track/run2/IMG/center_2018...</td>\n",
       "      <td>data/simulator_data/track/run2/IMG/left_2018_0...</td>\n",
       "      <td>data/simulator_data/track/run2/IMG/right_2018_...</td>\n",
       "      <td>-0.064378</td>\n",
       "      <td>1.0</td>\n",
       "      <td>0.0</td>\n",
       "      <td>30.19022</td>\n",
       "    </tr>\n",
       "    <tr>\n",
       "      <th>3</th>\n",
       "      <td>data/simulator_data/track/run2/IMG/center_2018...</td>\n",
       "      <td>data/simulator_data/track/run2/IMG/left_2018_0...</td>\n",
       "      <td>data/simulator_data/track/run2/IMG/right_2018_...</td>\n",
       "      <td>-0.064378</td>\n",
       "      <td>1.0</td>\n",
       "      <td>0.0</td>\n",
       "      <td>30.19008</td>\n",
       "    </tr>\n",
       "    <tr>\n",
       "      <th>4</th>\n",
       "      <td>data/simulator_data/track/run2/IMG/center_2018...</td>\n",
       "      <td>data/simulator_data/track/run2/IMG/left_2018_0...</td>\n",
       "      <td>data/simulator_data/track/run2/IMG/right_2018_...</td>\n",
       "      <td>-0.038627</td>\n",
       "      <td>1.0</td>\n",
       "      <td>0.0</td>\n",
       "      <td>30.19044</td>\n",
       "    </tr>\n",
       "  </tbody>\n",
       "</table>\n",
       "</div>"
      ],
      "text/plain": [
       "                                              center  \\\n",
       "0  data/simulator_data/track/run2/IMG/center_2018...   \n",
       "1  data/simulator_data/track/run2/IMG/center_2018...   \n",
       "2  data/simulator_data/track/run2/IMG/center_2018...   \n",
       "3  data/simulator_data/track/run2/IMG/center_2018...   \n",
       "4  data/simulator_data/track/run2/IMG/center_2018...   \n",
       "\n",
       "                                                left  \\\n",
       "0  data/simulator_data/track/run2/IMG/left_2018_0...   \n",
       "1  data/simulator_data/track/run2/IMG/left_2018_0...   \n",
       "2  data/simulator_data/track/run2/IMG/left_2018_0...   \n",
       "3  data/simulator_data/track/run2/IMG/left_2018_0...   \n",
       "4  data/simulator_data/track/run2/IMG/left_2018_0...   \n",
       "\n",
       "                                               right  steering  throttle  \\\n",
       "0  data/simulator_data/track/run2/IMG/right_2018_... -0.064378       1.0   \n",
       "1  data/simulator_data/track/run2/IMG/right_2018_... -0.064378       1.0   \n",
       "2  data/simulator_data/track/run2/IMG/right_2018_... -0.064378       1.0   \n",
       "3  data/simulator_data/track/run2/IMG/right_2018_... -0.064378       1.0   \n",
       "4  data/simulator_data/track/run2/IMG/right_2018_... -0.038627       1.0   \n",
       "\n",
       "   brake     speed  \n",
       "0    0.0  30.19027  \n",
       "1    0.0  30.19024  \n",
       "2    0.0  30.19022  \n",
       "3    0.0  30.19008  \n",
       "4    0.0  30.19044  "
      ]
     },
     "execution_count": 6,
     "metadata": {},
     "output_type": "execute_result"
    }
   ],
   "source": [
    "image_data.head()"
   ]
  },
  {
   "cell_type": "markdown",
   "metadata": {},
   "source": [
    "### Train-test split "
   ]
  },
  {
   "cell_type": "code",
   "execution_count": 7,
   "metadata": {},
   "outputs": [
    {
     "name": "stderr",
     "output_type": "stream",
     "text": [
      "/home/ubuntu/anaconda3/envs/tensorflow_p36/lib/python3.6/site-packages/sklearn/model_selection/_split.py:2026: FutureWarning: From version 0.21, test_size will always complement train_size unless both are specified.\n",
      "  FutureWarning)\n"
     ]
    }
   ],
   "source": [
    "from sklearn.model_selection import train_test_split\n",
    "from sklearn.utils import shuffle\n",
    "ind_train, ind_test = train_test_split(np.array(range(len(image_data))), train_size=0.8, random_state = 42)"
   ]
  },
  {
   "cell_type": "code",
   "execution_count": 8,
   "metadata": {},
   "outputs": [],
   "source": [
    "train_df = image_data.loc[ind_train]\n",
    "test_df = image_data.loc[ind_test]"
   ]
  },
  {
   "cell_type": "markdown",
   "metadata": {},
   "source": [
    "### Make flipping"
   ]
  },
  {
   "cell_type": "code",
   "execution_count": 9,
   "metadata": {},
   "outputs": [],
   "source": [
    "flipped_img_path = os.path.join( 'data/simulator_data/track/flip_init')"
   ]
  },
  {
   "cell_type": "code",
   "execution_count": 11,
   "metadata": {},
   "outputs": [],
   "source": [
    "filenames = []\n",
    "values = []\n",
    "for i, row in train_df.iterrows():\n",
    "    imgname = row['center']\n",
    "    steering = row['steering']\n",
    "    imgname = imgname.strip()\n",
    "    img = cv2.imread(os.path.join(imgname))\n",
    "    img = cv2.flip(img, flipCode=1)\n",
    "    saving_name = os.path.join(flipped_img_path, os.path.split(imgname)[-1])\n",
    "    cv2.imwrite(saving_name, img)\n",
    "    filenames.append(saving_name)\n",
    "    values.append(-1*steering)"
   ]
  },
  {
   "cell_type": "code",
   "execution_count": 12,
   "metadata": {},
   "outputs": [],
   "source": [
    "flipped_df = pd.DataFrame({'center': filenames, 'steering': values})"
   ]
  },
  {
   "cell_type": "code",
   "execution_count": 13,
   "metadata": {},
   "outputs": [],
   "source": [
    "flipped_init_df = pd.concat([train_df, flipped_df], ignore_index=True)"
   ]
  },
  {
   "cell_type": "code",
   "execution_count": 14,
   "metadata": {},
   "outputs": [
    {
     "data": {
      "text/html": [
       "<div>\n",
       "<style scoped>\n",
       "    .dataframe tbody tr th:only-of-type {\n",
       "        vertical-align: middle;\n",
       "    }\n",
       "\n",
       "    .dataframe tbody tr th {\n",
       "        vertical-align: top;\n",
       "    }\n",
       "\n",
       "    .dataframe thead th {\n",
       "        text-align: right;\n",
       "    }\n",
       "</style>\n",
       "<table border=\"1\" class=\"dataframe\">\n",
       "  <thead>\n",
       "    <tr style=\"text-align: right;\">\n",
       "      <th></th>\n",
       "      <th>brake</th>\n",
       "      <th>center</th>\n",
       "      <th>left</th>\n",
       "      <th>right</th>\n",
       "      <th>speed</th>\n",
       "      <th>steering</th>\n",
       "      <th>throttle</th>\n",
       "    </tr>\n",
       "  </thead>\n",
       "  <tbody>\n",
       "    <tr>\n",
       "      <th>51227</th>\n",
       "      <td>NaN</td>\n",
       "      <td>data/simulator_data/track/flip_init/center_201...</td>\n",
       "      <td>NaN</td>\n",
       "      <td>NaN</td>\n",
       "      <td>NaN</td>\n",
       "      <td>-0.085837</td>\n",
       "      <td>NaN</td>\n",
       "    </tr>\n",
       "    <tr>\n",
       "      <th>51228</th>\n",
       "      <td>NaN</td>\n",
       "      <td>data/simulator_data/track/flip_init/center_201...</td>\n",
       "      <td>NaN</td>\n",
       "      <td>NaN</td>\n",
       "      <td>NaN</td>\n",
       "      <td>0.025751</td>\n",
       "      <td>NaN</td>\n",
       "    </tr>\n",
       "    <tr>\n",
       "      <th>51229</th>\n",
       "      <td>NaN</td>\n",
       "      <td>data/simulator_data/track/flip_init/center_201...</td>\n",
       "      <td>NaN</td>\n",
       "      <td>NaN</td>\n",
       "      <td>NaN</td>\n",
       "      <td>0.231760</td>\n",
       "      <td>NaN</td>\n",
       "    </tr>\n",
       "    <tr>\n",
       "      <th>51230</th>\n",
       "      <td>NaN</td>\n",
       "      <td>data/simulator_data/track/flip_init/center_201...</td>\n",
       "      <td>NaN</td>\n",
       "      <td>NaN</td>\n",
       "      <td>NaN</td>\n",
       "      <td>0.068670</td>\n",
       "      <td>NaN</td>\n",
       "    </tr>\n",
       "    <tr>\n",
       "      <th>51231</th>\n",
       "      <td>NaN</td>\n",
       "      <td>data/simulator_data/track/flip_init/center_201...</td>\n",
       "      <td>NaN</td>\n",
       "      <td>NaN</td>\n",
       "      <td>NaN</td>\n",
       "      <td>-0.060086</td>\n",
       "      <td>NaN</td>\n",
       "    </tr>\n",
       "  </tbody>\n",
       "</table>\n",
       "</div>"
      ],
      "text/plain": [
       "       brake                                             center left right  \\\n",
       "51227    NaN  data/simulator_data/track/flip_init/center_201...  NaN   NaN   \n",
       "51228    NaN  data/simulator_data/track/flip_init/center_201...  NaN   NaN   \n",
       "51229    NaN  data/simulator_data/track/flip_init/center_201...  NaN   NaN   \n",
       "51230    NaN  data/simulator_data/track/flip_init/center_201...  NaN   NaN   \n",
       "51231    NaN  data/simulator_data/track/flip_init/center_201...  NaN   NaN   \n",
       "\n",
       "       speed  steering  throttle  \n",
       "51227    NaN -0.085837       NaN  \n",
       "51228    NaN  0.025751       NaN  \n",
       "51229    NaN  0.231760       NaN  \n",
       "51230    NaN  0.068670       NaN  \n",
       "51231    NaN -0.060086       NaN  "
      ]
     },
     "execution_count": 14,
     "metadata": {},
     "output_type": "execute_result"
    }
   ],
   "source": [
    "flipped_init_df.tail()"
   ]
  },
  {
   "cell_type": "code",
   "execution_count": 15,
   "metadata": {},
   "outputs": [
    {
     "data": {
      "text/html": [
       "<div>\n",
       "<style scoped>\n",
       "    .dataframe tbody tr th:only-of-type {\n",
       "        vertical-align: middle;\n",
       "    }\n",
       "\n",
       "    .dataframe tbody tr th {\n",
       "        vertical-align: top;\n",
       "    }\n",
       "\n",
       "    .dataframe thead th {\n",
       "        text-align: right;\n",
       "    }\n",
       "</style>\n",
       "<table border=\"1\" class=\"dataframe\">\n",
       "  <thead>\n",
       "    <tr style=\"text-align: right;\">\n",
       "      <th></th>\n",
       "      <th>brake</th>\n",
       "      <th>center</th>\n",
       "      <th>left</th>\n",
       "      <th>right</th>\n",
       "      <th>speed</th>\n",
       "      <th>steering</th>\n",
       "      <th>throttle</th>\n",
       "    </tr>\n",
       "  </thead>\n",
       "  <tbody>\n",
       "    <tr>\n",
       "      <th>0</th>\n",
       "      <td>0.0</td>\n",
       "      <td>data/simulator_data/track/run3-back/IMG/center...</td>\n",
       "      <td>data/simulator_data/track/run3-back/IMG/left_2...</td>\n",
       "      <td>data/simulator_data/track/run3-back/IMG/right_...</td>\n",
       "      <td>20.94395</td>\n",
       "      <td>-0.240343</td>\n",
       "      <td>0.066289</td>\n",
       "    </tr>\n",
       "    <tr>\n",
       "      <th>1</th>\n",
       "      <td>0.0</td>\n",
       "      <td>data/simulator_data/track/run-5/IMG/center_201...</td>\n",
       "      <td>data/simulator_data/track/run-5/IMG/left_2018_...</td>\n",
       "      <td>data/simulator_data/track/run-5/IMG/right_2018...</td>\n",
       "      <td>21.90985</td>\n",
       "      <td>-0.326180</td>\n",
       "      <td>0.000000</td>\n",
       "    </tr>\n",
       "    <tr>\n",
       "      <th>2</th>\n",
       "      <td>0.0</td>\n",
       "      <td>data/simulator_data/track/run3-back/IMG/center...</td>\n",
       "      <td>data/simulator_data/track/run3-back/IMG/left_2...</td>\n",
       "      <td>data/simulator_data/track/run3-back/IMG/right_...</td>\n",
       "      <td>30.19028</td>\n",
       "      <td>0.025751</td>\n",
       "      <td>1.000000</td>\n",
       "    </tr>\n",
       "    <tr>\n",
       "      <th>3</th>\n",
       "      <td>0.0</td>\n",
       "      <td>data/simulator_data/track/run-6/IMG/center_201...</td>\n",
       "      <td>data/simulator_data/track/run-6/IMG/left_2018_...</td>\n",
       "      <td>data/simulator_data/track/run-6/IMG/right_2018...</td>\n",
       "      <td>27.61868</td>\n",
       "      <td>0.154506</td>\n",
       "      <td>0.000000</td>\n",
       "    </tr>\n",
       "    <tr>\n",
       "      <th>4</th>\n",
       "      <td>0.0</td>\n",
       "      <td>data/simulator_data/track/run3-back/IMG/center...</td>\n",
       "      <td>data/simulator_data/track/run3-back/IMG/left_2...</td>\n",
       "      <td>data/simulator_data/track/run3-back/IMG/right_...</td>\n",
       "      <td>27.81060</td>\n",
       "      <td>0.111588</td>\n",
       "      <td>0.000000</td>\n",
       "    </tr>\n",
       "  </tbody>\n",
       "</table>\n",
       "</div>"
      ],
      "text/plain": [
       "   brake                                             center  \\\n",
       "0    0.0  data/simulator_data/track/run3-back/IMG/center...   \n",
       "1    0.0  data/simulator_data/track/run-5/IMG/center_201...   \n",
       "2    0.0  data/simulator_data/track/run3-back/IMG/center...   \n",
       "3    0.0  data/simulator_data/track/run-6/IMG/center_201...   \n",
       "4    0.0  data/simulator_data/track/run3-back/IMG/center...   \n",
       "\n",
       "                                                left  \\\n",
       "0  data/simulator_data/track/run3-back/IMG/left_2...   \n",
       "1  data/simulator_data/track/run-5/IMG/left_2018_...   \n",
       "2  data/simulator_data/track/run3-back/IMG/left_2...   \n",
       "3  data/simulator_data/track/run-6/IMG/left_2018_...   \n",
       "4  data/simulator_data/track/run3-back/IMG/left_2...   \n",
       "\n",
       "                                               right     speed  steering  \\\n",
       "0  data/simulator_data/track/run3-back/IMG/right_...  20.94395 -0.240343   \n",
       "1  data/simulator_data/track/run-5/IMG/right_2018...  21.90985 -0.326180   \n",
       "2  data/simulator_data/track/run3-back/IMG/right_...  30.19028  0.025751   \n",
       "3  data/simulator_data/track/run-6/IMG/right_2018...  27.61868  0.154506   \n",
       "4  data/simulator_data/track/run3-back/IMG/right_...  27.81060  0.111588   \n",
       "\n",
       "   throttle  \n",
       "0  0.066289  \n",
       "1  0.000000  \n",
       "2  1.000000  \n",
       "3  0.000000  \n",
       "4  0.000000  "
      ]
     },
     "execution_count": 15,
     "metadata": {},
     "output_type": "execute_result"
    }
   ],
   "source": [
    "flipped_init_df.head()"
   ]
  },
  {
   "cell_type": "code",
   "execution_count": 16,
   "metadata": {},
   "outputs": [
    {
     "name": "stdout",
     "output_type": "stream",
     "text": [
      "<class 'pandas.core.frame.DataFrame'>\n",
      "RangeIndex: 51232 entries, 0 to 51231\n",
      "Data columns (total 7 columns):\n",
      "brake       25616 non-null float64\n",
      "center      51232 non-null object\n",
      "left        25616 non-null object\n",
      "right       25616 non-null object\n",
      "speed       25616 non-null float64\n",
      "steering    51232 non-null float64\n",
      "throttle    25616 non-null float64\n",
      "dtypes: float64(4), object(3)\n",
      "memory usage: 2.7+ MB\n"
     ]
    }
   ],
   "source": [
    "flipped_init_df.info()"
   ]
  },
  {
   "cell_type": "markdown",
   "metadata": {},
   "source": [
    "### Training the models"
   ]
  },
  {
   "cell_type": "code",
   "execution_count": 17,
   "metadata": {},
   "outputs": [],
   "source": [
    "def generator_df(samples_df_, source_path='data', data_columns = ['center'], val_column = 'steering', batch_size=4):\n",
    "# yields batches from dataframe samples_df: ['images', 'steering']\n",
    "    samples_df = samples_df_.copy()\n",
    "    num_samples = len(samples_df)\n",
    "    while 1: # Loop forever so the generator never terminates\n",
    "        shuffle(samples_df)\n",
    "        for offset in range(0, num_samples, batch_size):\n",
    "            batch_samples = samples_df[offset:offset+batch_size]\n",
    "\n",
    "            images = None\n",
    "            angles = np.array([], dtype='float32')\n",
    "            for i, batch_sample in batch_samples.iterrows():\n",
    "                name = batch_sample[np.random.choice(data_columns, 1)].values[0]\n",
    "                name = name.strip()\n",
    "                center_image = cv2.imread(os.path.join(source_path,name))\n",
    "                if center_image is not None:\n",
    "                    center_angle = batch_sample[val_column]\n",
    "                    if images is None:\n",
    "                        images = center_image[np.newaxis]\n",
    "                    else:\n",
    "                        images = np.vstack([images, center_image[np.newaxis]])\n",
    "                    angles = np.append(angles, center_angle)\n",
    "\n",
    "            yield images, angles"
   ]
  },
  {
   "cell_type": "code",
   "execution_count": 18,
   "metadata": {},
   "outputs": [],
   "source": [
    "def predict_generator_df(samples_df_, source_path='data', data_columns = ['center'], batch_size=4):\n",
    "# yields batches for predictions, no shuffling\n",
    "    samples_df = samples_df_.copy()\n",
    "    num_samples = len(samples_df)\n",
    "    while 1: # Loop forever so the generator never terminates\n",
    "        for offset in range(0, num_samples, batch_size):\n",
    "            batch_samples = samples_df[offset:offset+batch_size]\n",
    "\n",
    "            images = None\n",
    "            angles = np.array([], dtype='float32')\n",
    "            for i, batch_sample in batch_samples.iterrows():\n",
    "                name = batch_sample[np.random.choice(data_columns, 1)].values[0]\n",
    "                name = name.strip()\n",
    "                center_image = cv2.imread(os.path.join(source_path,name))\n",
    "                center_angle = batch_sample['steering']\n",
    "                if images is None:\n",
    "                    images = center_image[np.newaxis]\n",
    "                else:\n",
    "                    images = np.vstack([images, center_image[np.newaxis]])\n",
    "                angles = np.append(angles, center_angle)\n",
    "\n",
    "            yield images"
   ]
  },
  {
   "cell_type": "code",
   "execution_count": 24,
   "metadata": {},
   "outputs": [],
   "source": [
    "BATCH_SIZE = 8\n",
    "train_generator = generator_df(flipped_init_df, source_path='', batch_size=BATCH_SIZE)\n",
    "val_generator = generator_df(test_df, source_path='', batch_size=BATCH_SIZE)"
   ]
  },
  {
   "cell_type": "markdown",
   "metadata": {},
   "source": [
    "#### Training VGG16-based model"
   ]
  },
  {
   "cell_type": "code",
   "execution_count": 25,
   "metadata": {},
   "outputs": [],
   "source": [
    "MODEL_SAVING_PATH = 'trained_weights/my_w/vgg16_center'\n",
    "from keras.callbacks import ModelCheckpoint"
   ]
  },
  {
   "cell_type": "code",
   "execution_count": 26,
   "metadata": {},
   "outputs": [],
   "source": [
    "saving_path = os.path.join(MODEL_SAVING_PATH, 'weights_vgg16e_center.{epoch:02d}-{val_loss:.4f}.hdf5')\n",
    "saver = ModelCheckpoint(saving_path, verbose=1, save_weights_only=True)"
   ]
  },
  {
   "cell_type": "code",
   "execution_count": 27,
   "metadata": {},
   "outputs": [],
   "source": [
    "model_vgg16 = get_model('VGG16_e')\n",
    "model_vgg16.compile(loss='mse', optimizer='adam')"
   ]
  },
  {
   "cell_type": "code",
   "execution_count": 29,
   "metadata": {},
   "outputs": [
    {
     "name": "stdout",
     "output_type": "stream",
     "text": [
      "Epoch 1/10\n",
      "6404/6404 [==============================] - 150s 23ms/step - loss: 0.0079 - val_loss: 0.0081\n",
      "\n",
      "Epoch 00001: saving model to trained_weights/my_w/vgg16_center/weights_vgg16e_center.01-0.0081.hdf5\n",
      "Epoch 2/10\n",
      "6404/6404 [==============================] - 150s 23ms/step - loss: 0.0082 - val_loss: 0.0062\n",
      "\n",
      "Epoch 00002: saving model to trained_weights/my_w/vgg16_center/weights_vgg16e_center.02-0.0062.hdf5\n",
      "Epoch 3/10\n",
      "6404/6404 [==============================] - 150s 23ms/step - loss: 0.0066 - val_loss: 0.0059\n",
      "\n",
      "Epoch 00003: saving model to trained_weights/my_w/vgg16_center/weights_vgg16e_center.03-0.0059.hdf5\n",
      "Epoch 4/10\n",
      "6404/6404 [==============================] - 150s 23ms/step - loss: 0.0058 - val_loss: 0.0057\n",
      "\n",
      "Epoch 00004: saving model to trained_weights/my_w/vgg16_center/weights_vgg16e_center.04-0.0057.hdf5\n",
      "Epoch 5/10\n",
      "6404/6404 [==============================] - 150s 23ms/step - loss: 0.0054 - val_loss: 0.0053\n",
      "\n",
      "Epoch 00005: saving model to trained_weights/my_w/vgg16_center/weights_vgg16e_center.05-0.0053.hdf5\n",
      "Epoch 6/10\n",
      "6404/6404 [==============================] - 150s 23ms/step - loss: 0.0051 - val_loss: 0.0051\n",
      "\n",
      "Epoch 00006: saving model to trained_weights/my_w/vgg16_center/weights_vgg16e_center.06-0.0051.hdf5\n",
      "Epoch 7/10\n",
      "6404/6404 [==============================] - 150s 23ms/step - loss: 0.0049 - val_loss: 0.0050\n",
      "\n",
      "Epoch 00007: saving model to trained_weights/my_w/vgg16_center/weights_vgg16e_center.07-0.0050.hdf5\n",
      "Epoch 8/10\n",
      "6404/6404 [==============================] - 150s 23ms/step - loss: 0.0047 - val_loss: 0.0049\n",
      "\n",
      "Epoch 00008: saving model to trained_weights/my_w/vgg16_center/weights_vgg16e_center.08-0.0049.hdf5\n",
      "Epoch 9/10\n",
      "6404/6404 [==============================] - 150s 23ms/step - loss: 0.0046 - val_loss: 0.0049\n",
      "\n",
      "Epoch 00009: saving model to trained_weights/my_w/vgg16_center/weights_vgg16e_center.09-0.0049.hdf5\n",
      "Epoch 10/10\n",
      "6404/6404 [==============================] - 150s 23ms/step - loss: 0.0045 - val_loss: 0.0048\n",
      "\n",
      "Epoch 00010: saving model to trained_weights/my_w/vgg16_center/weights_vgg16e_center.10-0.0048.hdf5\n"
     ]
    }
   ],
   "source": [
    "history_vgg16 = model_vgg16.fit_generator(train_generator, steps_per_epoch=len(flipped_init_df)/BATCH_SIZE, validation_data=val_generator,\n",
    "                                       validation_steps=len(test_df)/BATCH_SIZE, epochs=10, callbacks=[saver])"
   ]
  },
  {
   "cell_type": "markdown",
   "metadata": {},
   "source": [
    "#### Training NVIDIA-style model"
   ]
  },
  {
   "cell_type": "code",
   "execution_count": 34,
   "metadata": {},
   "outputs": [],
   "source": [
    "saving_path = os.path.join(MODEL_SAVING_PATH, 'nvidia_my', 'weights_nvidia_my.{epoch:02d}-{val_loss:.4f}.hdf5')\n",
    "saver = ModelCheckpoint(saving_path, verbose=1, save_weights_only=True)"
   ]
  },
  {
   "cell_type": "code",
   "execution_count": 35,
   "metadata": {},
   "outputs": [],
   "source": [
    "model_nvidia = get_model('NVIDIA')\n",
    "model_nvidia.compile(loss='mse', optimizer='adam')"
   ]
  },
  {
   "cell_type": "code",
   "execution_count": 36,
   "metadata": {},
   "outputs": [
    {
     "name": "stdout",
     "output_type": "stream",
     "text": [
      "Epoch 1/10\n",
      "804/803 [==============================] - 14s 18ms/step - loss: 0.6236 - val_loss: 0.0154\n",
      "\n",
      "Epoch 00001: saving model to trained_weights/nvidia/weights_nvidia.01-0.0154.hdf5\n",
      "Epoch 2/10\n",
      "804/803 [==============================] - 14s 17ms/step - loss: 0.0098 - val_loss: 0.0135\n",
      "\n",
      "Epoch 00002: saving model to trained_weights/nvidia/weights_nvidia.02-0.0135.hdf5\n",
      "Epoch 3/10\n",
      "804/803 [==============================] - 14s 17ms/step - loss: 0.0052 - val_loss: 0.0154\n",
      "\n",
      "Epoch 00003: saving model to trained_weights/nvidia/weights_nvidia.03-0.0154.hdf5\n",
      "Epoch 4/10\n",
      "804/803 [==============================] - 14s 17ms/step - loss: 0.0032 - val_loss: 0.0142\n",
      "\n",
      "Epoch 00004: saving model to trained_weights/nvidia/weights_nvidia.04-0.0142.hdf5\n",
      "Epoch 5/10\n",
      "804/803 [==============================] - 14s 17ms/step - loss: 0.0036 - val_loss: 0.0142\n",
      "\n",
      "Epoch 00005: saving model to trained_weights/nvidia/weights_nvidia.05-0.0142.hdf5\n",
      "Epoch 6/10\n",
      "804/803 [==============================] - 14s 17ms/step - loss: 0.0038 - val_loss: 0.0144\n",
      "\n",
      "Epoch 00006: saving model to trained_weights/nvidia/weights_nvidia.06-0.0144.hdf5\n",
      "Epoch 7/10\n",
      "804/803 [==============================] - 14s 17ms/step - loss: 0.0049 - val_loss: 0.0138\n",
      "\n",
      "Epoch 00007: saving model to trained_weights/nvidia/weights_nvidia.07-0.0138.hdf5\n",
      "Epoch 8/10\n",
      "804/803 [==============================] - 14s 17ms/step - loss: 0.0078 - val_loss: 0.0140\n",
      "\n",
      "Epoch 00008: saving model to trained_weights/nvidia/weights_nvidia.08-0.0140.hdf5\n",
      "Epoch 9/10\n",
      "804/803 [==============================] - 14s 17ms/step - loss: 1932740.7785 - val_loss: 262.9875\n",
      "\n",
      "Epoch 00009: saving model to trained_weights/nvidia/weights_nvidia.09-262.9875.hdf5\n",
      "Epoch 10/10\n",
      "804/803 [==============================] - 14s 17ms/step - loss: 195.4979 - val_loss: 96.1313\n",
      "\n",
      "Epoch 00010: saving model to trained_weights/nvidia/weights_nvidia.10-96.1313.hdf5\n"
     ]
    }
   ],
   "source": [
    "history_nvidia = model_nvidia.fit_generator(train_generator, steps_per_epoch=len(train_df)/BATCH_SIZE, validation_data=val_generator,\n",
    "                                       validation_steps=len(test_df)/BATCH_SIZE, epochs=10, callbacks=[saver])"
   ]
  },
  {
   "cell_type": "code",
   "execution_count": 45,
   "metadata": {},
   "outputs": [
    {
     "data": {
      "image/png": "[encoded data removed]",
      "text/plain": [
       "<Figure size 432x288 with 1 Axes>"
      ]
     },
     "metadata": {},
     "output_type": "display_data"
    }
   ],
   "source": [
    "plt.plot(history_vgg16.history['val_loss'])\n",
    "plt.plot(history_nvidia.history['val_loss'])\n",
    "plt.ylim((0,0.025))\n",
    "plt.legend(['vgg16', 'nvidia'])\n",
    "plt.show()"
   ]
  },
  {
   "cell_type": "markdown",
   "metadata": {},
   "source": [
    "### Load pretrained model (for experiments)"
   ]
  },
  {
   "cell_type": "code",
   "execution_count": 16,
   "metadata": {},
   "outputs": [],
   "source": [
    "from keras.models import load_model"
   ]
  },
  {
   "cell_type": "code",
   "execution_count": 22,
   "metadata": {},
   "outputs": [],
   "source": [
    "model_vgg16.load_weights('trained_weights/vgg16_my/weights_vgg16.08-0.0037.hdf5')"
   ]
  },
  {
   "cell_type": "markdown",
   "metadata": {},
   "source": [
    "### Try to use left and right images"
   ]
  },
  {
   "cell_type": "code",
   "execution_count": 23,
   "metadata": {},
   "outputs": [],
   "source": [
    "center_generator = predict_generator_df(train_df, source_path='', data_columns = ['center'], batch_size=BATCH_SIZE)\n",
    "left_generator = predict_generator_df(train_df, source_path='', data_columns=['left'], batch_size=BATCH_SIZE)\n",
    "right_generator = predict_generator_df(train_df, source_path='', data_columns=['right'], batch_size=BATCH_SIZE)"
   ]
  },
  {
   "cell_type": "code",
   "execution_count": 24,
   "metadata": {},
   "outputs": [],
   "source": [
    "center_predictions = model_vgg16.predict_generator(center_generator, steps=len(train_df)/BATCH_SIZE)"
   ]
  },
  {
   "cell_type": "code",
   "execution_count": 25,
   "metadata": {},
   "outputs": [],
   "source": [
    "center_predictions = center_predictions.flatten()"
   ]
  },
  {
   "cell_type": "code",
   "execution_count": 26,
   "metadata": {},
   "outputs": [],
   "source": [
    "left_predictions = model_vgg16.predict_generator(left_generator, steps=len(train_df)/BATCH_SIZE).flatten()"
   ]
  },
  {
   "cell_type": "code",
   "execution_count": 27,
   "metadata": {},
   "outputs": [],
   "source": [
    "right_predictions = model_vgg16.predict_generator(right_generator, steps=len(train_df)/BATCH_SIZE).flatten()"
   ]
  },
  {
   "cell_type": "markdown",
   "metadata": {},
   "source": [
    "#### Here we calculate correction factors between predictions"
   ]
  },
  {
   "cell_type": "code",
   "execution_count": 28,
   "metadata": {},
   "outputs": [],
   "source": [
    "left_delta = np.mean(center_predictions - left_predictions)\n",
    "right_delta = np.mean(center_predictions - right_predictions)"
   ]
  },
  {
   "cell_type": "code",
   "execution_count": 29,
   "metadata": {},
   "outputs": [
    {
     "name": "stdout",
     "output_type": "stream",
     "text": [
      "-0.020963809 0.023573231\n"
     ]
    }
   ],
   "source": [
    "print(left_delta, right_delta)"
   ]
  },
  {
   "cell_type": "markdown",
   "metadata": {},
   "source": [
    "#### Make extended dataset with all images used"
   ]
  },
  {
   "cell_type": "code",
   "execution_count": 30,
   "metadata": {},
   "outputs": [],
   "source": [
    "left_steering = train_df['steering'].values - left_delta\n",
    "right_steering = train_df['steering'].values - right_delta"
   ]
  },
  {
   "cell_type": "code",
   "execution_count": 31,
   "metadata": {},
   "outputs": [
    {
     "data": {
      "text/html": [
       "<div>\n",
       "<style scoped>\n",
       "    .dataframe tbody tr th:only-of-type {\n",
       "        vertical-align: middle;\n",
       "    }\n",
       "\n",
       "    .dataframe tbody tr th {\n",
       "        vertical-align: top;\n",
       "    }\n",
       "\n",
       "    .dataframe thead th {\n",
       "        text-align: right;\n",
       "    }\n",
       "</style>\n",
       "<table border=\"1\" class=\"dataframe\">\n",
       "  <thead>\n",
       "    <tr style=\"text-align: right;\">\n",
       "      <th></th>\n",
       "      <th>center</th>\n",
       "      <th>left</th>\n",
       "      <th>right</th>\n",
       "      <th>steering</th>\n",
       "      <th>throttle</th>\n",
       "      <th>brake</th>\n",
       "      <th>speed</th>\n",
       "      <th>left_steering</th>\n",
       "      <th>right_steering</th>\n",
       "    </tr>\n",
       "  </thead>\n",
       "  <tbody>\n",
       "    <tr>\n",
       "      <th>29269</th>\n",
       "      <td>data/simulator_data/track/run3-back/IMG/center...</td>\n",
       "      <td>data/simulator_data/track/run3-back/IMG/left_2...</td>\n",
       "      <td>data/simulator_data/track/run3-back/IMG/right_...</td>\n",
       "      <td>-0.240343</td>\n",
       "      <td>0.066289</td>\n",
       "      <td>0.0</td>\n",
       "      <td>20.94395</td>\n",
       "      <td>-0.219379</td>\n",
       "      <td>-0.263917</td>\n",
       "    </tr>\n",
       "    <tr>\n",
       "      <th>4416</th>\n",
       "      <td>data/simulator_data/track/run-5/IMG/center_201...</td>\n",
       "      <td>data/simulator_data/track/run-5/IMG/left_2018_...</td>\n",
       "      <td>data/simulator_data/track/run-5/IMG/right_2018...</td>\n",
       "      <td>-0.326180</td>\n",
       "      <td>0.000000</td>\n",
       "      <td>0.0</td>\n",
       "      <td>21.90985</td>\n",
       "      <td>-0.305216</td>\n",
       "      <td>-0.349754</td>\n",
       "    </tr>\n",
       "    <tr>\n",
       "      <th>29698</th>\n",
       "      <td>data/simulator_data/track/run3-back/IMG/center...</td>\n",
       "      <td>data/simulator_data/track/run3-back/IMG/left_2...</td>\n",
       "      <td>data/simulator_data/track/run3-back/IMG/right_...</td>\n",
       "      <td>0.025751</td>\n",
       "      <td>1.000000</td>\n",
       "      <td>0.0</td>\n",
       "      <td>30.19028</td>\n",
       "      <td>0.046715</td>\n",
       "      <td>0.002178</td>\n",
       "    </tr>\n",
       "    <tr>\n",
       "      <th>25176</th>\n",
       "      <td>data/simulator_data/track/run-6/IMG/center_201...</td>\n",
       "      <td>data/simulator_data/track/run-6/IMG/left_2018_...</td>\n",
       "      <td>data/simulator_data/track/run-6/IMG/right_2018...</td>\n",
       "      <td>0.154506</td>\n",
       "      <td>0.000000</td>\n",
       "      <td>0.0</td>\n",
       "      <td>27.61868</td>\n",
       "      <td>0.175470</td>\n",
       "      <td>0.130933</td>\n",
       "    </tr>\n",
       "    <tr>\n",
       "      <th>27055</th>\n",
       "      <td>data/simulator_data/track/run3-back/IMG/center...</td>\n",
       "      <td>data/simulator_data/track/run3-back/IMG/left_2...</td>\n",
       "      <td>data/simulator_data/track/run3-back/IMG/right_...</td>\n",
       "      <td>0.111588</td>\n",
       "      <td>0.000000</td>\n",
       "      <td>0.0</td>\n",
       "      <td>27.81060</td>\n",
       "      <td>0.132552</td>\n",
       "      <td>0.088015</td>\n",
       "    </tr>\n",
       "  </tbody>\n",
       "</table>\n",
       "</div>"
      ],
      "text/plain": [
       "                                                  center  \\\n",
       "29269  data/simulator_data/track/run3-back/IMG/center...   \n",
       "4416   data/simulator_data/track/run-5/IMG/center_201...   \n",
       "29698  data/simulator_data/track/run3-back/IMG/center...   \n",
       "25176  data/simulator_data/track/run-6/IMG/center_201...   \n",
       "27055  data/simulator_data/track/run3-back/IMG/center...   \n",
       "\n",
       "                                                    left  \\\n",
       "29269  data/simulator_data/track/run3-back/IMG/left_2...   \n",
       "4416   data/simulator_data/track/run-5/IMG/left_2018_...   \n",
       "29698  data/simulator_data/track/run3-back/IMG/left_2...   \n",
       "25176  data/simulator_data/track/run-6/IMG/left_2018_...   \n",
       "27055  data/simulator_data/track/run3-back/IMG/left_2...   \n",
       "\n",
       "                                                   right  steering  throttle  \\\n",
       "29269  data/simulator_data/track/run3-back/IMG/right_... -0.240343  0.066289   \n",
       "4416   data/simulator_data/track/run-5/IMG/right_2018... -0.326180  0.000000   \n",
       "29698  data/simulator_data/track/run3-back/IMG/right_...  0.025751  1.000000   \n",
       "25176  data/simulator_data/track/run-6/IMG/right_2018...  0.154506  0.000000   \n",
       "27055  data/simulator_data/track/run3-back/IMG/right_...  0.111588  0.000000   \n",
       "\n",
       "       brake     speed  left_steering  right_steering  \n",
       "29269    0.0  20.94395      -0.219379       -0.263917  \n",
       "4416     0.0  21.90985      -0.305216       -0.349754  \n",
       "29698    0.0  30.19028       0.046715        0.002178  \n",
       "25176    0.0  27.61868       0.175470        0.130933  \n",
       "27055    0.0  27.81060       0.132552        0.088015  "
      ]
     },
     "execution_count": 31,
     "metadata": {},
     "output_type": "execute_result"
    }
   ],
   "source": [
    "train_df_ext = train_df\n",
    "train_df_ext['left_steering'] = train_df['steering'] - left_delta\n",
    "train_df_ext['right_steering'] = train_df['steering'] - right_delta\n",
    "train_df_ext.head()"
   ]
  },
  {
   "cell_type": "code",
   "execution_count": 35,
   "metadata": {},
   "outputs": [
    {
     "name": "stdout",
     "output_type": "stream",
     "text": [
      "<class 'pandas.core.frame.DataFrame'>\n",
      "Int64Index: 25616 entries, 29269 to 23654\n",
      "Data columns (total 9 columns):\n",
      "center            25616 non-null object\n",
      "left              25616 non-null object\n",
      "right             25616 non-null object\n",
      "steering          25616 non-null float64\n",
      "throttle          25616 non-null float64\n",
      "brake             25616 non-null float64\n",
      "speed             25616 non-null float64\n",
      "left_steering     25616 non-null float64\n",
      "right_steering    25616 non-null float64\n",
      "dtypes: float64(6), object(3)\n",
      "memory usage: 2.0+ MB\n"
     ]
    }
   ],
   "source": [
    "train_df_ext.info()"
   ]
  },
  {
   "cell_type": "code",
   "execution_count": 32,
   "metadata": {},
   "outputs": [
    {
     "name": "stdout",
     "output_type": "stream",
     "text": [
      "<class 'pandas.core.frame.DataFrame'>\n",
      "RangeIndex: 76848 entries, 0 to 76847\n",
      "Data columns (total 2 columns):\n",
      "image    76848 non-null object\n",
      "value    76848 non-null float64\n",
      "dtypes: float64(1), object(1)\n",
      "memory usage: 1.2+ MB\n"
     ]
    }
   ],
   "source": [
    "train_df_joint = train_df_ext[['center', 'steering']].rename(columns={'center': 'image', 'steering': 'value'})\n",
    "train_df_joint = pd.concat([train_df_joint,\n",
    "                           train_df_ext[['left', 'left_steering']].rename(columns={'left': 'image', 'left_steering': 'value'})],\n",
    "                          ignore_index=True)\n",
    "train_df_joint = pd.concat([train_df_joint,\n",
    "                           train_df_ext[['right', 'right_steering']].rename(columns={'right': 'image', 'right_steering': 'value'})],\n",
    "                          ignore_index=True)\n",
    "train_df_joint.info()"
   ]
  },
  {
   "cell_type": "code",
   "execution_count": 34,
   "metadata": {},
   "outputs": [
    {
     "data": {
      "text/html": [
       "<div>\n",
       "<style scoped>\n",
       "    .dataframe tbody tr th:only-of-type {\n",
       "        vertical-align: middle;\n",
       "    }\n",
       "\n",
       "    .dataframe tbody tr th {\n",
       "        vertical-align: top;\n",
       "    }\n",
       "\n",
       "    .dataframe thead th {\n",
       "        text-align: right;\n",
       "    }\n",
       "</style>\n",
       "<table border=\"1\" class=\"dataframe\">\n",
       "  <thead>\n",
       "    <tr style=\"text-align: right;\">\n",
       "      <th></th>\n",
       "      <th>image</th>\n",
       "      <th>value</th>\n",
       "    </tr>\n",
       "  </thead>\n",
       "  <tbody>\n",
       "    <tr>\n",
       "      <th>0</th>\n",
       "      <td>data/simulator_data/track/run3-back/IMG/center...</td>\n",
       "      <td>-0.240343</td>\n",
       "    </tr>\n",
       "    <tr>\n",
       "      <th>1</th>\n",
       "      <td>data/simulator_data/track/run-5/IMG/center_201...</td>\n",
       "      <td>-0.326180</td>\n",
       "    </tr>\n",
       "    <tr>\n",
       "      <th>2</th>\n",
       "      <td>data/simulator_data/track/run3-back/IMG/center...</td>\n",
       "      <td>0.025751</td>\n",
       "    </tr>\n",
       "    <tr>\n",
       "      <th>3</th>\n",
       "      <td>data/simulator_data/track/run-6/IMG/center_201...</td>\n",
       "      <td>0.154506</td>\n",
       "    </tr>\n",
       "    <tr>\n",
       "      <th>4</th>\n",
       "      <td>data/simulator_data/track/run3-back/IMG/center...</td>\n",
       "      <td>0.111588</td>\n",
       "    </tr>\n",
       "  </tbody>\n",
       "</table>\n",
       "</div>"
      ],
      "text/plain": [
       "                                               image     value\n",
       "0  data/simulator_data/track/run3-back/IMG/center... -0.240343\n",
       "1  data/simulator_data/track/run-5/IMG/center_201... -0.326180\n",
       "2  data/simulator_data/track/run3-back/IMG/center...  0.025751\n",
       "3  data/simulator_data/track/run-6/IMG/center_201...  0.154506\n",
       "4  data/simulator_data/track/run3-back/IMG/center...  0.111588"
      ]
     },
     "execution_count": 34,
     "metadata": {},
     "output_type": "execute_result"
    }
   ],
   "source": [
    "train_df_joint.head()"
   ]
  },
  {
   "cell_type": "markdown",
   "metadata": {},
   "source": [
    "## Make flipping"
   ]
  },
  {
   "cell_type": "code",
   "execution_count": 51,
   "metadata": {},
   "outputs": [],
   "source": [
    "flipped_img_path = os.path.join( 'data/simulator_data/track/flipped')"
   ]
  },
  {
   "cell_type": "code",
   "execution_count": 52,
   "metadata": {},
   "outputs": [],
   "source": [
    "filenames = []\n",
    "values = []\n",
    "for i, row in train_df_joint.iterrows():\n",
    "    imgname = row['image']\n",
    "    steering = row['value']\n",
    "    imgname = imgname.strip()\n",
    "    img = cv2.imread(os.path.join(imgname))\n",
    "    img = cv2.flip(img, flipCode=1)\n",
    "    saving_name = os.path.join(flipped_img_path, os.path.split(imgname)[-1])\n",
    "    cv2.imwrite(saving_name, img)\n",
    "    filenames.append(saving_name)\n",
    "    values.append(-1*steering)"
   ]
  },
  {
   "cell_type": "code",
   "execution_count": 38,
   "metadata": {},
   "outputs": [],
   "source": [
    "flipped_df = pd.DataFrame({'image': filenames, 'value': values})"
   ]
  },
  {
   "cell_type": "code",
   "execution_count": 39,
   "metadata": {},
   "outputs": [
    {
     "name": "stdout",
     "output_type": "stream",
     "text": [
      "<class 'pandas.core.frame.DataFrame'>\n",
      "RangeIndex: 153696 entries, 0 to 153695\n",
      "Data columns (total 2 columns):\n",
      "image    153696 non-null object\n",
      "value    153696 non-null float64\n",
      "dtypes: float64(1), object(1)\n",
      "memory usage: 2.3+ MB\n"
     ]
    }
   ],
   "source": [
    "flipped_df = pd.concat([train_df_joint, flipped_df], ignore_index=True)\n",
    "flipped_df.info()"
   ]
  },
  {
   "cell_type": "code",
   "execution_count": 53,
   "metadata": {},
   "outputs": [
    {
     "data": {
      "text/html": [
       "<div>\n",
       "<style scoped>\n",
       "    .dataframe tbody tr th:only-of-type {\n",
       "        vertical-align: middle;\n",
       "    }\n",
       "\n",
       "    .dataframe tbody tr th {\n",
       "        vertical-align: top;\n",
       "    }\n",
       "\n",
       "    .dataframe thead th {\n",
       "        text-align: right;\n",
       "    }\n",
       "</style>\n",
       "<table border=\"1\" class=\"dataframe\">\n",
       "  <thead>\n",
       "    <tr style=\"text-align: right;\">\n",
       "      <th></th>\n",
       "      <th>image</th>\n",
       "      <th>value</th>\n",
       "    </tr>\n",
       "  </thead>\n",
       "  <tbody>\n",
       "    <tr>\n",
       "      <th>153691</th>\n",
       "      <td>data/simulator_data/track/flipped/right_2018_0...</td>\n",
       "      <td>-0.062264</td>\n",
       "    </tr>\n",
       "    <tr>\n",
       "      <th>153692</th>\n",
       "      <td>data/simulator_data/track/flipped/right_2018_0...</td>\n",
       "      <td>0.049324</td>\n",
       "    </tr>\n",
       "    <tr>\n",
       "      <th>153693</th>\n",
       "      <td>data/simulator_data/track/flipped/right_2018_0...</td>\n",
       "      <td>0.255333</td>\n",
       "    </tr>\n",
       "    <tr>\n",
       "      <th>153694</th>\n",
       "      <td>data/simulator_data/track/flipped/right_2018_0...</td>\n",
       "      <td>0.092243</td>\n",
       "    </tr>\n",
       "    <tr>\n",
       "      <th>153695</th>\n",
       "      <td>data/simulator_data/track/flipped/right_2018_0...</td>\n",
       "      <td>-0.036513</td>\n",
       "    </tr>\n",
       "  </tbody>\n",
       "</table>\n",
       "</div>"
      ],
      "text/plain": [
       "                                                    image     value\n",
       "153691  data/simulator_data/track/flipped/right_2018_0... -0.062264\n",
       "153692  data/simulator_data/track/flipped/right_2018_0...  0.049324\n",
       "153693  data/simulator_data/track/flipped/right_2018_0...  0.255333\n",
       "153694  data/simulator_data/track/flipped/right_2018_0...  0.092243\n",
       "153695  data/simulator_data/track/flipped/right_2018_0... -0.036513"
      ]
     },
     "execution_count": 53,
     "metadata": {},
     "output_type": "execute_result"
    }
   ],
   "source": [
    "flipped_df.tail()"
   ]
  },
  {
   "cell_type": "markdown",
   "metadata": {},
   "source": [
    "### Training models on joint and flipped dataset"
   ]
  },
  {
   "cell_type": "code",
   "execution_count": 54,
   "metadata": {},
   "outputs": [],
   "source": [
    "train_generator_flipped = generator_df(flipped_df, source_path='', data_columns=['image'], val_column='value', batch_size=BATCH_SIZE)"
   ]
  },
  {
   "cell_type": "code",
   "execution_count": 99,
   "metadata": {},
   "outputs": [],
   "source": [
    "model_vgg16e_flipped = get_model('VGG16_e')\n",
    "model_vgg16e_flipped.compile(optimizer='adam', loss='mse')"
   ]
  },
  {
   "cell_type": "code",
   "execution_count": 60,
   "metadata": {},
   "outputs": [],
   "source": [
    "model_nvidia_flipped = get_model('NVIDIA')\n",
    "model_nvidia_flipped.compile(optimizer='adam', loss='mse')"
   ]
  },
  {
   "cell_type": "code",
   "execution_count": 96,
   "metadata": {},
   "outputs": [],
   "source": [
    "saving_path = os.path.join(MODEL_SAVING_PATH, 'vgg16_flipped_my', 'weights_vgg16_flipped_my.{epoch:02d}-{val_loss:.4f}.hdf5')\n",
    "saver_vgg = ModelCheckpoint(saving_path, verbose=1, save_weights_only=True)"
   ]
  },
  {
   "cell_type": "code",
   "execution_count": 61,
   "metadata": {},
   "outputs": [],
   "source": [
    "saving_path = os.path.join(MODEL_SAVING_PATH, 'nvidia_flipped', 'weights_nvidia_flipped.{epoch:02d}-{val_loss:.4f}.hdf5')\n",
    "saver_nvidia = ModelCheckpoint(saving_path, verbose=1, save_weights_only=True)"
   ]
  },
  {
   "cell_type": "code",
   "execution_count": 58,
   "metadata": {},
   "outputs": [
    {
     "name": "stdout",
     "output_type": "stream",
     "text": [
      "Epoch 1/10\n",
      "19212/19212 [==============================] - 378s 20ms/step - loss: 0.0415 - val_loss: 0.0194\n",
      "\n",
      "Epoch 00001: saving model to trained_weights/vgg16e_flipped_my/weights_vgg16e_flipped_my.01-0.0194.hdf5\n",
      "Epoch 2/10\n",
      "19212/19212 [==============================] - 378s 20ms/step - loss: 0.0080 - val_loss: 0.0090\n",
      "\n",
      "Epoch 00002: saving model to trained_weights/vgg16e_flipped_my/weights_vgg16e_flipped_my.02-0.0090.hdf5\n",
      "Epoch 3/10\n",
      "19212/19212 [==============================] - 378s 20ms/step - loss: 0.0058 - val_loss: 0.0070\n",
      "\n",
      "Epoch 00003: saving model to trained_weights/vgg16e_flipped_my/weights_vgg16e_flipped_my.03-0.0070.hdf5\n",
      "Epoch 4/10\n",
      "19212/19212 [==============================] - 378s 20ms/step - loss: 0.0054 - val_loss: 0.0069\n",
      "\n",
      "Epoch 00004: saving model to trained_weights/vgg16e_flipped_my/weights_vgg16e_flipped_my.04-0.0069.hdf5\n",
      "Epoch 5/10\n",
      "19212/19212 [==============================] - 378s 20ms/step - loss: 0.0052 - val_loss: 0.0065\n",
      "\n",
      "Epoch 00005: saving model to trained_weights/vgg16e_flipped_my/weights_vgg16e_flipped_my.05-0.0065.hdf5\n",
      "Epoch 6/10\n",
      "19212/19212 [==============================] - 378s 20ms/step - loss: 0.0051 - val_loss: 0.0073\n",
      "\n",
      "Epoch 00006: saving model to trained_weights/vgg16e_flipped_my/weights_vgg16e_flipped_my.06-0.0073.hdf5\n",
      "Epoch 7/10\n",
      "19212/19212 [==============================] - 377s 20ms/step - loss: 0.0050 - val_loss: 0.0063\n",
      "\n",
      "Epoch 00007: saving model to trained_weights/vgg16e_flipped_my/weights_vgg16e_flipped_my.07-0.0063.hdf5\n",
      "Epoch 8/10\n",
      "19212/19212 [==============================] - 378s 20ms/step - loss: 0.0049 - val_loss: 0.0083\n",
      "\n",
      "Epoch 00008: saving model to trained_weights/vgg16e_flipped_my/weights_vgg16e_flipped_my.08-0.0083.hdf5\n",
      "Epoch 9/10\n",
      "19212/19212 [==============================] - 377s 20ms/step - loss: 0.0048 - val_loss: 0.0060\n",
      "\n",
      "Epoch 00009: saving model to trained_weights/vgg16e_flipped_my/weights_vgg16e_flipped_my.09-0.0060.hdf5\n",
      "Epoch 10/10\n",
      "19212/19212 [==============================] - 378s 20ms/step - loss: 0.0048 - val_loss: 0.0061\n",
      "\n",
      "Epoch 00010: saving model to trained_weights/vgg16e_flipped_my/weights_vgg16e_flipped_my.10-0.0061.hdf5\n"
     ]
    }
   ],
   "source": [
    "history_vgg16e_flipped = model_vgg16e.fit_generator(train_generator_flipped, steps_per_epoch=len(flipped_df)/BATCH_SIZE,\n",
    "                                     validation_data = val_generator, validation_steps=len(test_df)/BATCH_SIZE,\n",
    "                                 callbacks=[saver_vgg], epochs=10)"
   ]
  },
  {
   "cell_type": "code",
   "execution_count": 62,
   "metadata": {},
   "outputs": [
    {
     "name": "stdout",
     "output_type": "stream",
     "text": [
      "Epoch 1/10\n",
      "19212/19212 [==============================] - 319s 17ms/step - loss: 511.8605 - val_loss: 0.2383\n",
      "\n",
      "Epoch 00001: saving model to trained_weights/nvidia_flipped/weights_nvidia_flipped.01-0.2383.hdf5\n",
      "Epoch 2/10\n",
      "19212/19212 [==============================] - 319s 17ms/step - loss: 421.7276 - val_loss: 0.2795\n",
      "\n",
      "Epoch 00002: saving model to trained_weights/nvidia_flipped/weights_nvidia_flipped.02-0.2795.hdf5\n",
      "Epoch 3/10\n",
      "19212/19212 [==============================] - 319s 17ms/step - loss: 498.9718 - val_loss: 0.0843\n",
      "\n",
      "Epoch 00003: saving model to trained_weights/nvidia_flipped/weights_nvidia_flipped.03-0.0843.hdf5\n",
      "Epoch 4/10\n",
      "19212/19212 [==============================] - 319s 17ms/step - loss: 449.6086 - val_loss: 0.0765\n",
      "\n",
      "Epoch 00004: saving model to trained_weights/nvidia_flipped/weights_nvidia_flipped.04-0.0765.hdf5\n",
      "Epoch 5/10\n",
      "19212/19212 [==============================] - 319s 17ms/step - loss: 8468.1190 - val_loss: 0.0953\n",
      "\n",
      "Epoch 00005: saving model to trained_weights/nvidia_flipped/weights_nvidia_flipped.05-0.0953.hdf5\n",
      "Epoch 6/10\n",
      "19212/19212 [==============================] - 318s 17ms/step - loss: 1227.4394 - val_loss: 0.4933\n",
      "\n",
      "Epoch 00006: saving model to trained_weights/nvidia_flipped/weights_nvidia_flipped.06-0.4933.hdf5\n",
      "Epoch 7/10\n",
      "19212/19212 [==============================] - 318s 17ms/step - loss: 203.1196 - val_loss: 0.0697\n",
      "\n",
      "Epoch 00007: saving model to trained_weights/nvidia_flipped/weights_nvidia_flipped.07-0.0697.hdf5\n",
      "Epoch 8/10\n",
      "19212/19212 [==============================] - 317s 17ms/step - loss: 949.8269 - val_loss: 2.0558\n",
      "\n",
      "Epoch 00008: saving model to trained_weights/nvidia_flipped/weights_nvidia_flipped.08-2.0558.hdf5\n",
      "Epoch 9/10\n",
      "19212/19212 [==============================] - 318s 17ms/step - loss: 5069.3183 - val_loss: 26.1272\n",
      "\n",
      "Epoch 00009: saving model to trained_weights/nvidia_flipped/weights_nvidia_flipped.09-26.1272.hdf5\n",
      "Epoch 10/10\n",
      "19212/19212 [==============================] - 317s 17ms/step - loss: 18277.9559 - val_loss: 0.5789\n",
      "\n",
      "Epoch 00010: saving model to trained_weights/nvidia_flipped/weights_nvidia_flipped.10-0.5789.hdf5\n"
     ]
    }
   ],
   "source": [
    "history_nvidia_flipped = model_nvidia_flipped.fit_generator(train_generator_flipped, steps_per_epoch=len(flipped_df)/BATCH_SIZE,\n",
    "                                     validation_data = val_generator, validation_steps=len(test_df)/BATCH_SIZE,\n",
    "                                 callbacks=[saver_nvidia], epochs=10)"
   ]
  },
  {
   "cell_type": "code",
   "execution_count": 112,
   "metadata": {},
   "outputs": [],
   "source": [
    "with open(os.path.join('train_history', 'history_vgg16.json'), 'w') as f:\n",
    "    json.dump(history_vgg16.history, f)"
   ]
  },
  {
   "cell_type": "code",
   "execution_count": 114,
   "metadata": {},
   "outputs": [],
   "source": [
    "with open(os.path.join('train_history', 'history_nvidia.json'), 'w') as f:\n",
    "    json.dump(history_nvidia.history, f)"
   ]
  },
  {
   "cell_type": "code",
   "execution_count": 115,
   "metadata": {},
   "outputs": [],
   "source": [
    "with open(os.path.join('train_history', 'history_vgg16_joint.json'), 'w') as f:\n",
    "    json.dump(history_vgg16_joint.history, f)"
   ]
  },
  {
   "cell_type": "code",
   "execution_count": 116,
   "metadata": {},
   "outputs": [],
   "source": [
    "with open(os.path.join('train_history', 'history_vgg16_flipped.json'), 'w') as f:\n",
    "    json.dump(history_vgg16_flipped.history, f)"
   ]
  },
  {
   "cell_type": "code",
   "execution_count": 117,
   "metadata": {},
   "outputs": [],
   "source": [
    "with open(os.path.join('train_history', 'history_vgg16e_flipped.json'), 'w') as f:\n",
    "    json.dump(history_vgg16e_flipped.history, f)"
   ]
  },
  {
   "cell_type": "code",
   "execution_count": 118,
   "metadata": {},
   "outputs": [],
   "source": [
    "with open(os.path.join('train_history', 'history_nvidia_joint.json'), 'w') as f:\n",
    "    json.dump(history_nvidia_joint.history, f)"
   ]
  },
  {
   "cell_type": "code",
   "execution_count": 119,
   "metadata": {},
   "outputs": [],
   "source": [
    "with open(os.path.join('train_history', 'history_nvidia_flipped.json'), 'w') as f:\n",
    "    json.dump(history_nvidia_flipped.history, f)"
   ]
  },
  {
   "cell_type": "code",
   "execution_count": 125,
   "metadata": {},
   "outputs": [],
   "source": [
    "with open(os.path.join('datasets', 'train_df.p'), 'wb') as f:\n",
    "    pickle.dump(train_df, f)"
   ]
  },
  {
   "cell_type": "code",
   "execution_count": 126,
   "metadata": {},
   "outputs": [],
   "source": [
    "with open(os.path.join('datasets', 'train_df_joint.p'), 'wb') as f:\n",
    "    pickle.dump(train_df_joint, f)"
   ]
  },
  {
   "cell_type": "code",
   "execution_count": 128,
   "metadata": {},
   "outputs": [],
   "source": [
    "with open(os.path.join('datasets', 'train_df_flipped.p'), 'wb') as f:\n",
    "    pickle.dump(flipped_df, f)"
   ]
  },
  {
   "cell_type": "code",
   "execution_count": 129,
   "metadata": {},
   "outputs": [],
   "source": [
    "with open(os.path.join('datasets', 'test_df.p'), 'wb') as f:\n",
    "    pickle.dump(test_df, f)"
   ]
  },
  {
   "cell_type": "code",
   "execution_count": null,
   "metadata": {},
   "outputs": [],
   "source": []
  }
 ],
 "metadata": {
  "kernelspec": {
   "display_name": "Python 3",
   "language": "python",
   "name": "python3"
  },
  "language_info": {
   "codemirror_mode": {
    "name": "ipython",
    "version": 3
   },
   "file_extension": ".py",
   "mimetype": "text/x-python",
   "name": "python",
   "nbconvert_exporter": "python",
   "pygments_lexer": "ipython3",
   "version": "3.6.4"
  }
 },
 "nbformat": 4,
 "nbformat_minor": 2
}
