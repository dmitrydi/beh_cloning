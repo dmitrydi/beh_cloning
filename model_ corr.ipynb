{
 "cells": [
  {
   "cell_type": "code",
   "execution_count": 120,
   "metadata": {},
   "outputs": [],
   "source": [
    "import pandas as pd\n",
    "import sklearn\n",
    "import numpy as np\n",
    "import matplotlib.pyplot as plt\n",
    "import keras as K\n",
    "import tensorflow as tf\n",
    "import os, json\n",
    "from scipy import misc\n",
    "import cv2\n",
    "import pickle"
   ]
  },
  {
   "cell_type": "code",
   "execution_count": 2,
   "metadata": {},
   "outputs": [],
   "source": [
    "from cnn_builder import get_model"
   ]
  },
  {
   "cell_type": "code",
   "execution_count": 3,
   "metadata": {},
   "outputs": [],
   "source": [
    "IMAGE_DATA_PATH = './data'"
   ]
  },
  {
   "cell_type": "code",
   "execution_count": 4,
   "metadata": {},
   "outputs": [],
   "source": [
    "image_data = pd.read_csv(os.path.join(IMAGE_DATA_PATH, 'driving_log.csv'))"
   ]
  },
  {
   "cell_type": "code",
   "execution_count": 5,
   "metadata": {},
   "outputs": [
    {
     "name": "stdout",
     "output_type": "stream",
     "text": [
      "<class 'pandas.core.frame.DataFrame'>\n",
      "RangeIndex: 8036 entries, 0 to 8035\n",
      "Data columns (total 7 columns):\n",
      "center      8036 non-null object\n",
      "left        8036 non-null object\n",
      "right       8036 non-null object\n",
      "steering    8036 non-null float64\n",
      "throttle    8036 non-null float64\n",
      "brake       8036 non-null float64\n",
      "speed       8036 non-null float64\n",
      "dtypes: float64(4), object(3)\n",
      "memory usage: 439.5+ KB\n"
     ]
    }
   ],
   "source": [
    "image_data.info()"
   ]
  },
  {
   "cell_type": "code",
   "execution_count": 6,
   "metadata": {},
   "outputs": [
    {
     "data": {
      "text/html": [
       "<div>\n",
       "<style scoped>\n",
       "    .dataframe tbody tr th:only-of-type {\n",
       "        vertical-align: middle;\n",
       "    }\n",
       "\n",
       "    .dataframe tbody tr th {\n",
       "        vertical-align: top;\n",
       "    }\n",
       "\n",
       "    .dataframe thead th {\n",
       "        text-align: right;\n",
       "    }\n",
       "</style>\n",
       "<table border=\"1\" class=\"dataframe\">\n",
       "  <thead>\n",
       "    <tr style=\"text-align: right;\">\n",
       "      <th></th>\n",
       "      <th>center</th>\n",
       "      <th>left</th>\n",
       "      <th>right</th>\n",
       "      <th>steering</th>\n",
       "      <th>throttle</th>\n",
       "      <th>brake</th>\n",
       "      <th>speed</th>\n",
       "    </tr>\n",
       "  </thead>\n",
       "  <tbody>\n",
       "    <tr>\n",
       "      <th>0</th>\n",
       "      <td>IMG/center_2016_12_01_13_30_48_287.jpg</td>\n",
       "      <td>IMG/left_2016_12_01_13_30_48_287.jpg</td>\n",
       "      <td>IMG/right_2016_12_01_13_30_48_287.jpg</td>\n",
       "      <td>0.0</td>\n",
       "      <td>0.0</td>\n",
       "      <td>0.0</td>\n",
       "      <td>22.148290</td>\n",
       "    </tr>\n",
       "    <tr>\n",
       "      <th>1</th>\n",
       "      <td>IMG/center_2016_12_01_13_30_48_404.jpg</td>\n",
       "      <td>IMG/left_2016_12_01_13_30_48_404.jpg</td>\n",
       "      <td>IMG/right_2016_12_01_13_30_48_404.jpg</td>\n",
       "      <td>0.0</td>\n",
       "      <td>0.0</td>\n",
       "      <td>0.0</td>\n",
       "      <td>21.879630</td>\n",
       "    </tr>\n",
       "    <tr>\n",
       "      <th>2</th>\n",
       "      <td>IMG/center_2016_12_01_13_31_12_937.jpg</td>\n",
       "      <td>IMG/left_2016_12_01_13_31_12_937.jpg</td>\n",
       "      <td>IMG/right_2016_12_01_13_31_12_937.jpg</td>\n",
       "      <td>0.0</td>\n",
       "      <td>0.0</td>\n",
       "      <td>0.0</td>\n",
       "      <td>1.453011</td>\n",
       "    </tr>\n",
       "    <tr>\n",
       "      <th>3</th>\n",
       "      <td>IMG/center_2016_12_01_13_31_13_037.jpg</td>\n",
       "      <td>IMG/left_2016_12_01_13_31_13_037.jpg</td>\n",
       "      <td>IMG/right_2016_12_01_13_31_13_037.jpg</td>\n",
       "      <td>0.0</td>\n",
       "      <td>0.0</td>\n",
       "      <td>0.0</td>\n",
       "      <td>1.438419</td>\n",
       "    </tr>\n",
       "    <tr>\n",
       "      <th>4</th>\n",
       "      <td>IMG/center_2016_12_01_13_31_13_177.jpg</td>\n",
       "      <td>IMG/left_2016_12_01_13_31_13_177.jpg</td>\n",
       "      <td>IMG/right_2016_12_01_13_31_13_177.jpg</td>\n",
       "      <td>0.0</td>\n",
       "      <td>0.0</td>\n",
       "      <td>0.0</td>\n",
       "      <td>1.418236</td>\n",
       "    </tr>\n",
       "  </tbody>\n",
       "</table>\n",
       "</div>"
      ],
      "text/plain": [
       "                                   center  \\\n",
       "0  IMG/center_2016_12_01_13_30_48_287.jpg   \n",
       "1  IMG/center_2016_12_01_13_30_48_404.jpg   \n",
       "2  IMG/center_2016_12_01_13_31_12_937.jpg   \n",
       "3  IMG/center_2016_12_01_13_31_13_037.jpg   \n",
       "4  IMG/center_2016_12_01_13_31_13_177.jpg   \n",
       "\n",
       "                                    left  \\\n",
       "0   IMG/left_2016_12_01_13_30_48_287.jpg   \n",
       "1   IMG/left_2016_12_01_13_30_48_404.jpg   \n",
       "2   IMG/left_2016_12_01_13_31_12_937.jpg   \n",
       "3   IMG/left_2016_12_01_13_31_13_037.jpg   \n",
       "4   IMG/left_2016_12_01_13_31_13_177.jpg   \n",
       "\n",
       "                                    right  steering  throttle  brake  \\\n",
       "0   IMG/right_2016_12_01_13_30_48_287.jpg       0.0       0.0    0.0   \n",
       "1   IMG/right_2016_12_01_13_30_48_404.jpg       0.0       0.0    0.0   \n",
       "2   IMG/right_2016_12_01_13_31_12_937.jpg       0.0       0.0    0.0   \n",
       "3   IMG/right_2016_12_01_13_31_13_037.jpg       0.0       0.0    0.0   \n",
       "4   IMG/right_2016_12_01_13_31_13_177.jpg       0.0       0.0    0.0   \n",
       "\n",
       "       speed  \n",
       "0  22.148290  \n",
       "1  21.879630  \n",
       "2   1.453011  \n",
       "3   1.438419  \n",
       "4   1.418236  "
      ]
     },
     "execution_count": 6,
     "metadata": {},
     "output_type": "execute_result"
    }
   ],
   "source": [
    "image_data.head()"
   ]
  },
  {
   "cell_type": "markdown",
   "metadata": {},
   "source": [
    "### Train-test split "
   ]
  },
  {
   "cell_type": "code",
   "execution_count": 16,
   "metadata": {},
   "outputs": [
    {
     "name": "stderr",
     "output_type": "stream",
     "text": [
      "/home/ubuntu/anaconda3/envs/tensorflow_p36/lib/python3.6/site-packages/sklearn/model_selection/_split.py:2026: FutureWarning: From version 0.21, test_size will always complement train_size unless both are specified.\n",
      "  FutureWarning)\n"
     ]
    }
   ],
   "source": [
    "from sklearn.model_selection import train_test_split\n",
    "from sklearn.utils import shuffle\n",
    "ind_train, ind_test = train_test_split(np.array(range(len(image_data))), train_size=0.8, random_state = 42)"
   ]
  },
  {
   "cell_type": "code",
   "execution_count": 17,
   "metadata": {},
   "outputs": [],
   "source": [
    "train_df = image_data.loc[ind_train]\n",
    "test_df = image_data.loc[ind_test]"
   ]
  },
  {
   "cell_type": "markdown",
   "metadata": {},
   "source": [
    "### Training the models"
   ]
  },
  {
   "cell_type": "code",
   "execution_count": 21,
   "metadata": {},
   "outputs": [],
   "source": [
    "def generator_df(samples_df_, source_path='data', data_columns = ['center'], val_column = 'steering', batch_size=4):\n",
    "# yields batches from dataframe samples_df: ['images', 'steering']\n",
    "    samples_df = samples_df_.copy()\n",
    "    num_samples = len(samples_df)\n",
    "    while 1: # Loop forever so the generator never terminates\n",
    "        shuffle(samples_df)\n",
    "        for offset in range(0, num_samples, batch_size):\n",
    "            batch_samples = samples_df[offset:offset+batch_size]\n",
    "\n",
    "            images = None\n",
    "            angles = np.array([], dtype='float32')\n",
    "            for i, batch_sample in batch_samples.iterrows():\n",
    "                name = batch_sample[np.random.choice(data_columns, 1)].values[0]\n",
    "                name = name.strip()\n",
    "                center_image = cv2.imread(os.path.join(source_path,name))\n",
    "                if center_image is not None:\n",
    "                    center_angle = batch_sample[val_column]\n",
    "                    if images is None:\n",
    "                        images = center_image[np.newaxis]\n",
    "                    else:\n",
    "                        images = np.vstack([images, center_image[np.newaxis]])\n",
    "                    angles = np.append(angles, center_angle)\n",
    "\n",
    "            yield images, angles"
   ]
  },
  {
   "cell_type": "code",
   "execution_count": 22,
   "metadata": {},
   "outputs": [],
   "source": [
    "def predict_generator_df(samples_df_, source_path='data', data_columns = ['center'], batch_size=4):\n",
    "# yields batches for predictions, no shuffling\n",
    "    samples_df = samples_df_.copy()\n",
    "    num_samples = len(samples_df)\n",
    "    while 1: # Loop forever so the generator never terminates\n",
    "        for offset in range(0, num_samples, batch_size):\n",
    "            batch_samples = samples_df[offset:offset+batch_size]\n",
    "\n",
    "            images = None\n",
    "            angles = np.array([], dtype='float32')\n",
    "            for i, batch_sample in batch_samples.iterrows():\n",
    "                name = batch_sample[np.random.choice(data_columns, 1)].values[0]\n",
    "                name = name.strip()\n",
    "                center_image = cv2.imread(os.path.join(source_path,name))\n",
    "                center_angle = batch_sample['steering']\n",
    "                if images is None:\n",
    "                    images = center_image[np.newaxis]\n",
    "                else:\n",
    "                    images = np.vstack([images, center_image[np.newaxis]])\n",
    "                angles = np.append(angles, center_angle)\n",
    "\n",
    "            yield images"
   ]
  },
  {
   "cell_type": "code",
   "execution_count": 23,
   "metadata": {},
   "outputs": [],
   "source": [
    "BATCH_SIZE = 8\n",
    "train_generator = generator_df(train_df, batch_size=BATCH_SIZE)\n",
    "val_generator = generator_df(test_df, batch_size=BATCH_SIZE)"
   ]
  },
  {
   "cell_type": "markdown",
   "metadata": {},
   "source": [
    "#### Training VGG16-based model"
   ]
  },
  {
   "cell_type": "code",
   "execution_count": 25,
   "metadata": {},
   "outputs": [],
   "source": [
    "MODEL_SAVING_PATH = 'trained_weights'\n",
    "from keras.callbacks import ModelCheckpoint"
   ]
  },
  {
   "cell_type": "code",
   "execution_count": 31,
   "metadata": {},
   "outputs": [],
   "source": [
    "saving_path = os.path.join(MODEL_SAVING_PATH, 'vgg16', 'weights_vgg16.{epoch:02d}-{val_loss:.4f}.hdf5')\n",
    "saver = ModelCheckpoint(saving_path, verbose=1, save_weights_only=True)"
   ]
  },
  {
   "cell_type": "code",
   "execution_count": 32,
   "metadata": {},
   "outputs": [],
   "source": [
    "model_vgg16 = get_model('VGG16')\n",
    "model_vgg16.compile(loss='mse', optimizer='adam')"
   ]
  },
  {
   "cell_type": "code",
   "execution_count": 33,
   "metadata": {},
   "outputs": [
    {
     "name": "stdout",
     "output_type": "stream",
     "text": [
      "Epoch 1/10\n",
      "804/803 [==============================] - 23s 29ms/step - loss: 0.2219 - val_loss: 0.0153\n",
      "\n",
      "Epoch 00001: saving model to trained_weights/vgg16/weights_vgg16.01-0.0153.hdf5\n",
      "Epoch 2/10\n",
      "804/803 [==============================] - 19s 24ms/step - loss: 0.0140 - val_loss: 0.0200\n",
      "\n",
      "Epoch 00002: saving model to trained_weights/vgg16/weights_vgg16.02-0.0200.hdf5\n",
      "Epoch 3/10\n",
      "804/803 [==============================] - 19s 24ms/step - loss: 0.0121 - val_loss: 0.0109\n",
      "\n",
      "Epoch 00003: saving model to trained_weights/vgg16/weights_vgg16.03-0.0109.hdf5\n",
      "Epoch 4/10\n",
      "804/803 [==============================] - 19s 24ms/step - loss: 0.0099 - val_loss: 0.0231\n",
      "\n",
      "Epoch 00004: saving model to trained_weights/vgg16/weights_vgg16.04-0.0231.hdf5\n",
      "Epoch 5/10\n",
      "804/803 [==============================] - 19s 24ms/step - loss: 0.0087 - val_loss: 0.0095\n",
      "\n",
      "Epoch 00005: saving model to trained_weights/vgg16/weights_vgg16.05-0.0095.hdf5\n",
      "Epoch 6/10\n",
      "804/803 [==============================] - 19s 24ms/step - loss: 0.0078 - val_loss: 0.0100\n",
      "\n",
      "Epoch 00006: saving model to trained_weights/vgg16/weights_vgg16.06-0.0100.hdf5\n",
      "Epoch 7/10\n",
      "804/803 [==============================] - 19s 24ms/step - loss: 0.0074 - val_loss: 0.0117\n",
      "\n",
      "Epoch 00007: saving model to trained_weights/vgg16/weights_vgg16.07-0.0117.hdf5\n",
      "Epoch 8/10\n",
      "804/803 [==============================] - 19s 24ms/step - loss: 0.0072 - val_loss: 0.0123\n",
      "\n",
      "Epoch 00008: saving model to trained_weights/vgg16/weights_vgg16.08-0.0123.hdf5\n",
      "Epoch 9/10\n",
      "804/803 [==============================] - 19s 24ms/step - loss: 0.0073 - val_loss: 0.0112\n",
      "\n",
      "Epoch 00009: saving model to trained_weights/vgg16/weights_vgg16.09-0.0112.hdf5\n",
      "Epoch 10/10\n",
      "804/803 [==============================] - 19s 24ms/step - loss: 0.0071 - val_loss: 0.0103\n",
      "\n",
      "Epoch 00010: saving model to trained_weights/vgg16/weights_vgg16.10-0.0103.hdf5\n"
     ]
    }
   ],
   "source": [
    "history_vgg16 = model_vgg16.fit_generator(train_generator, steps_per_epoch=len(train_df)/BATCH_SIZE, validation_data=val_generator,\n",
    "                                       validation_steps=len(test_df)/BATCH_SIZE, epochs=10, callbacks=[saver])"
   ]
  },
  {
   "cell_type": "markdown",
   "metadata": {},
   "source": [
    "#### Training NVIDIA-style model"
   ]
  },
  {
   "cell_type": "code",
   "execution_count": 34,
   "metadata": {},
   "outputs": [],
   "source": [
    "saving_path = os.path.join(MODEL_SAVING_PATH, 'nvidia', 'weights_nvidia.{epoch:02d}-{val_loss:.4f}.hdf5')\n",
    "saver = ModelCheckpoint(saving_path, verbose=1, save_weights_only=True)"
   ]
  },
  {
   "cell_type": "code",
   "execution_count": 35,
   "metadata": {},
   "outputs": [],
   "source": [
    "model_nvidia = get_model('NVIDIA')\n",
    "model_nvidia.compile(loss='mse', optimizer='adam')"
   ]
  },
  {
   "cell_type": "code",
   "execution_count": 36,
   "metadata": {},
   "outputs": [
    {
     "name": "stdout",
     "output_type": "stream",
     "text": [
      "Epoch 1/10\n",
      "804/803 [==============================] - 14s 18ms/step - loss: 0.6236 - val_loss: 0.0154\n",
      "\n",
      "Epoch 00001: saving model to trained_weights/nvidia/weights_nvidia.01-0.0154.hdf5\n",
      "Epoch 2/10\n",
      "804/803 [==============================] - 14s 17ms/step - loss: 0.0098 - val_loss: 0.0135\n",
      "\n",
      "Epoch 00002: saving model to trained_weights/nvidia/weights_nvidia.02-0.0135.hdf5\n",
      "Epoch 3/10\n",
      "804/803 [==============================] - 14s 17ms/step - loss: 0.0052 - val_loss: 0.0154\n",
      "\n",
      "Epoch 00003: saving model to trained_weights/nvidia/weights_nvidia.03-0.0154.hdf5\n",
      "Epoch 4/10\n",
      "804/803 [==============================] - 14s 17ms/step - loss: 0.0032 - val_loss: 0.0142\n",
      "\n",
      "Epoch 00004: saving model to trained_weights/nvidia/weights_nvidia.04-0.0142.hdf5\n",
      "Epoch 5/10\n",
      "804/803 [==============================] - 14s 17ms/step - loss: 0.0036 - val_loss: 0.0142\n",
      "\n",
      "Epoch 00005: saving model to trained_weights/nvidia/weights_nvidia.05-0.0142.hdf5\n",
      "Epoch 6/10\n",
      "804/803 [==============================] - 14s 17ms/step - loss: 0.0038 - val_loss: 0.0144\n",
      "\n",
      "Epoch 00006: saving model to trained_weights/nvidia/weights_nvidia.06-0.0144.hdf5\n",
      "Epoch 7/10\n",
      "804/803 [==============================] - 14s 17ms/step - loss: 0.0049 - val_loss: 0.0138\n",
      "\n",
      "Epoch 00007: saving model to trained_weights/nvidia/weights_nvidia.07-0.0138.hdf5\n",
      "Epoch 8/10\n",
      "804/803 [==============================] - 14s 17ms/step - loss: 0.0078 - val_loss: 0.0140\n",
      "\n",
      "Epoch 00008: saving model to trained_weights/nvidia/weights_nvidia.08-0.0140.hdf5\n",
      "Epoch 9/10\n",
      "804/803 [==============================] - 14s 17ms/step - loss: 1932740.7785 - val_loss: 262.9875\n",
      "\n",
      "Epoch 00009: saving model to trained_weights/nvidia/weights_nvidia.09-262.9875.hdf5\n",
      "Epoch 10/10\n",
      "804/803 [==============================] - 14s 17ms/step - loss: 195.4979 - val_loss: 96.1313\n",
      "\n",
      "Epoch 00010: saving model to trained_weights/nvidia/weights_nvidia.10-96.1313.hdf5\n"
     ]
    }
   ],
   "source": [
    "history_nvidia = model_nvidia.fit_generator(train_generator, steps_per_epoch=len(train_df)/BATCH_SIZE, validation_data=val_generator,\n",
    "                                       validation_steps=len(test_df)/BATCH_SIZE, epochs=10, callbacks=[saver])"
   ]
  },
  {
   "cell_type": "code",
   "execution_count": 45,
   "metadata": {},
   "outputs": [
    {
     "data": {
      "image/png": "[encoded data removed]",
      "text/plain": [
       "<Figure size 432x288 with 1 Axes>"
      ]
     },
     "metadata": {},
     "output_type": "display_data"
    }
   ],
   "source": [
    "plt.plot(history_vgg16.history['val_loss'])\n",
    "plt.plot(history_nvidia.history['val_loss'])\n",
    "plt.ylim((0,0.025))\n",
    "plt.legend(['vgg16', 'nvidia'])\n",
    "plt.show()"
   ]
  },
  {
   "cell_type": "markdown",
   "metadata": {},
   "source": [
    "### Load pretrained model (for experiments)"
   ]
  },
  {
   "cell_type": "code",
   "execution_count": 18,
   "metadata": {},
   "outputs": [],
   "source": [
    "from keras.models import load_model"
   ]
  },
  {
   "cell_type": "code",
   "execution_count": 47,
   "metadata": {},
   "outputs": [],
   "source": [
    "model_vgg16.load_weights('trained_weights/vgg16/weights_vgg16.05-0.0095.hdf5')"
   ]
  },
  {
   "cell_type": "markdown",
   "metadata": {},
   "source": [
    "### Try to use left and right images"
   ]
  },
  {
   "cell_type": "code",
   "execution_count": 46,
   "metadata": {},
   "outputs": [],
   "source": [
    "center_generator = predict_generator_df(train_df, source_path='data', data_columns = ['center'], batch_size=BATCH_SIZE)\n",
    "left_generator = predict_generator_df(train_df, data_columns=['left'], batch_size=BATCH_SIZE)\n",
    "right_generator = predict_generator_df(train_df, data_columns=['right'], batch_size=BATCH_SIZE)"
   ]
  },
  {
   "cell_type": "code",
   "execution_count": 48,
   "metadata": {},
   "outputs": [],
   "source": [
    "center_predictions = model_vgg16.predict_generator(center_generator, steps=len(train_df)/BATCH_SIZE)"
   ]
  },
  {
   "cell_type": "code",
   "execution_count": 50,
   "metadata": {},
   "outputs": [],
   "source": [
    "center_predictions = center_predictions.flatten()"
   ]
  },
  {
   "cell_type": "code",
   "execution_count": 52,
   "metadata": {},
   "outputs": [],
   "source": [
    "left_predictions = model_vgg16.predict_generator(left_generator, steps=len(train_df)/BATCH_SIZE).flatten()"
   ]
  },
  {
   "cell_type": "code",
   "execution_count": 53,
   "metadata": {},
   "outputs": [],
   "source": [
    "right_predictions = model_vgg16.predict_generator(right_generator, steps=len(train_df)/BATCH_SIZE).flatten()"
   ]
  },
  {
   "cell_type": "markdown",
   "metadata": {},
   "source": [
    "#### Here we calculate correction factors between predictions"
   ]
  },
  {
   "cell_type": "code",
   "execution_count": 55,
   "metadata": {},
   "outputs": [],
   "source": [
    "left_delta = np.mean(center_predictions - left_predictions)\n",
    "right_delta = np.mean(center_predictions - right_predictions)"
   ]
  },
  {
   "cell_type": "code",
   "execution_count": 56,
   "metadata": {},
   "outputs": [
    {
     "name": "stdout",
     "output_type": "stream",
     "text": [
      "-0.05206264 0.059707746\n"
     ]
    }
   ],
   "source": [
    "print(left_delta, right_delta)"
   ]
  },
  {
   "cell_type": "markdown",
   "metadata": {},
   "source": [
    "#### Make extended dataset with all images used"
   ]
  },
  {
   "cell_type": "code",
   "execution_count": 57,
   "metadata": {},
   "outputs": [],
   "source": [
    "left_steering = train_df['steering'].values - left_delta\n",
    "right_steering = train_df['steering'].values - right_delta"
   ]
  },
  {
   "cell_type": "code",
   "execution_count": 60,
   "metadata": {},
   "outputs": [
    {
     "data": {
      "text/html": [
       "<div>\n",
       "<style scoped>\n",
       "    .dataframe tbody tr th:only-of-type {\n",
       "        vertical-align: middle;\n",
       "    }\n",
       "\n",
       "    .dataframe tbody tr th {\n",
       "        vertical-align: top;\n",
       "    }\n",
       "\n",
       "    .dataframe thead th {\n",
       "        text-align: right;\n",
       "    }\n",
       "</style>\n",
       "<table border=\"1\" class=\"dataframe\">\n",
       "  <thead>\n",
       "    <tr style=\"text-align: right;\">\n",
       "      <th></th>\n",
       "      <th>center</th>\n",
       "      <th>left</th>\n",
       "      <th>right</th>\n",
       "      <th>steering</th>\n",
       "      <th>throttle</th>\n",
       "      <th>brake</th>\n",
       "      <th>speed</th>\n",
       "      <th>left_steering</th>\n",
       "      <th>right_steering</th>\n",
       "    </tr>\n",
       "  </thead>\n",
       "  <tbody>\n",
       "    <tr>\n",
       "      <th>3422</th>\n",
       "      <td>IMG/center_2016_12_01_13_38_25_085.jpg</td>\n",
       "      <td>IMG/left_2016_12_01_13_38_25_085.jpg</td>\n",
       "      <td>IMG/right_2016_12_01_13_38_25_085.jpg</td>\n",
       "      <td>0.000000</td>\n",
       "      <td>0.985533</td>\n",
       "      <td>0.0</td>\n",
       "      <td>30.186300</td>\n",
       "      <td>0.052063</td>\n",
       "      <td>-0.059708</td>\n",
       "    </tr>\n",
       "    <tr>\n",
       "      <th>6214</th>\n",
       "      <td>IMG/center_2016_12_01_13_43_37_055.jpg</td>\n",
       "      <td>IMG/left_2016_12_01_13_43_37_055.jpg</td>\n",
       "      <td>IMG/right_2016_12_01_13_43_37_055.jpg</td>\n",
       "      <td>0.000000</td>\n",
       "      <td>0.985533</td>\n",
       "      <td>0.0</td>\n",
       "      <td>30.186570</td>\n",
       "      <td>0.052063</td>\n",
       "      <td>-0.059708</td>\n",
       "    </tr>\n",
       "    <tr>\n",
       "      <th>3501</th>\n",
       "      <td>IMG/center_2016_12_01_13_38_33_072.jpg</td>\n",
       "      <td>IMG/left_2016_12_01_13_38_33_072.jpg</td>\n",
       "      <td>IMG/right_2016_12_01_13_38_33_072.jpg</td>\n",
       "      <td>0.000000</td>\n",
       "      <td>0.000000</td>\n",
       "      <td>0.0</td>\n",
       "      <td>9.823975</td>\n",
       "      <td>0.052063</td>\n",
       "      <td>-0.059708</td>\n",
       "    </tr>\n",
       "    <tr>\n",
       "      <th>2688</th>\n",
       "      <td>IMG/center_2016_12_01_13_37_10_714.jpg</td>\n",
       "      <td>IMG/left_2016_12_01_13_37_10_714.jpg</td>\n",
       "      <td>IMG/right_2016_12_01_13_37_10_714.jpg</td>\n",
       "      <td>0.000000</td>\n",
       "      <td>0.985533</td>\n",
       "      <td>0.0</td>\n",
       "      <td>30.186650</td>\n",
       "      <td>0.052063</td>\n",
       "      <td>-0.059708</td>\n",
       "    </tr>\n",
       "    <tr>\n",
       "      <th>5023</th>\n",
       "      <td>IMG/center_2016_12_01_13_41_36_264.jpg</td>\n",
       "      <td>IMG/left_2016_12_01_13_41_36_264.jpg</td>\n",
       "      <td>IMG/right_2016_12_01_13_41_36_264.jpg</td>\n",
       "      <td>-0.135712</td>\n",
       "      <td>0.985533</td>\n",
       "      <td>0.0</td>\n",
       "      <td>30.185320</td>\n",
       "      <td>-0.083649</td>\n",
       "      <td>-0.195420</td>\n",
       "    </tr>\n",
       "  </tbody>\n",
       "</table>\n",
       "</div>"
      ],
      "text/plain": [
       "                                      center  \\\n",
       "3422  IMG/center_2016_12_01_13_38_25_085.jpg   \n",
       "6214  IMG/center_2016_12_01_13_43_37_055.jpg   \n",
       "3501  IMG/center_2016_12_01_13_38_33_072.jpg   \n",
       "2688  IMG/center_2016_12_01_13_37_10_714.jpg   \n",
       "5023  IMG/center_2016_12_01_13_41_36_264.jpg   \n",
       "\n",
       "                                       left  \\\n",
       "3422   IMG/left_2016_12_01_13_38_25_085.jpg   \n",
       "6214   IMG/left_2016_12_01_13_43_37_055.jpg   \n",
       "3501   IMG/left_2016_12_01_13_38_33_072.jpg   \n",
       "2688   IMG/left_2016_12_01_13_37_10_714.jpg   \n",
       "5023   IMG/left_2016_12_01_13_41_36_264.jpg   \n",
       "\n",
       "                                       right  steering  throttle  brake  \\\n",
       "3422   IMG/right_2016_12_01_13_38_25_085.jpg  0.000000  0.985533    0.0   \n",
       "6214   IMG/right_2016_12_01_13_43_37_055.jpg  0.000000  0.985533    0.0   \n",
       "3501   IMG/right_2016_12_01_13_38_33_072.jpg  0.000000  0.000000    0.0   \n",
       "2688   IMG/right_2016_12_01_13_37_10_714.jpg  0.000000  0.985533    0.0   \n",
       "5023   IMG/right_2016_12_01_13_41_36_264.jpg -0.135712  0.985533    0.0   \n",
       "\n",
       "          speed  left_steering  right_steering  \n",
       "3422  30.186300       0.052063       -0.059708  \n",
       "6214  30.186570       0.052063       -0.059708  \n",
       "3501   9.823975       0.052063       -0.059708  \n",
       "2688  30.186650       0.052063       -0.059708  \n",
       "5023  30.185320      -0.083649       -0.195420  "
      ]
     },
     "execution_count": 60,
     "metadata": {},
     "output_type": "execute_result"
    }
   ],
   "source": [
    "train_df_ext = train_df\n",
    "train_df_ext['left_steering'] = train_df['steering'] - left_delta\n",
    "train_df_ext['right_steering'] = train_df['steering'] - right_delta\n",
    "train_df_ext.head()"
   ]
  },
  {
   "cell_type": "code",
   "execution_count": 62,
   "metadata": {},
   "outputs": [
    {
     "name": "stdout",
     "output_type": "stream",
     "text": [
      "<class 'pandas.core.frame.DataFrame'>\n",
      "RangeIndex: 19284 entries, 0 to 19283\n",
      "Data columns (total 2 columns):\n",
      "image    19284 non-null object\n",
      "value    19284 non-null float64\n",
      "dtypes: float64(1), object(1)\n",
      "memory usage: 301.4+ KB\n"
     ]
    }
   ],
   "source": [
    "train_df_joint = train_df_ext[['center', 'steering']].rename(columns={'center': 'image', 'steering': 'value'})\n",
    "train_df_joint = pd.concat([train_df_joint,\n",
    "                           train_df_ext[['left', 'left_steering']].rename(columns={'left': 'image', 'left_steering': 'value'})],\n",
    "                          ignore_index=True)\n",
    "train_df_joint = pd.concat([train_df_joint,\n",
    "                           train_df_ext[['right', 'right_steering']].rename(columns={'right': 'image', 'right_steering': 'value'})],\n",
    "                          ignore_index=True)\n",
    "train_df_joint.info()"
   ]
  },
  {
   "cell_type": "markdown",
   "metadata": {},
   "source": [
    "### Train VGG16 model on joint dataset"
   ]
  },
  {
   "cell_type": "code",
   "execution_count": 63,
   "metadata": {},
   "outputs": [],
   "source": [
    "train_generator_joint = generator_df(train_df_joint, data_columns = ['image'], val_column = 'value', batch_size=BATCH_SIZE)"
   ]
  },
  {
   "cell_type": "code",
   "execution_count": 64,
   "metadata": {},
   "outputs": [],
   "source": [
    "saving_path = os.path.join(MODEL_SAVING_PATH, 'vgg16_joint', 'weights_vgg16_joint.{epoch:02d}-{val_loss:.4f}.hdf5')\n",
    "saver = ModelCheckpoint(saving_path, verbose=1, save_weights_only=True)"
   ]
  },
  {
   "cell_type": "code",
   "execution_count": 67,
   "metadata": {},
   "outputs": [],
   "source": [
    "model_vgg16_joint = get_model('VGG16')\n",
    "model_vgg16_joint.compile(optimizer='adam', loss='mse')"
   ]
  },
  {
   "cell_type": "code",
   "execution_count": 68,
   "metadata": {},
   "outputs": [
    {
     "name": "stdout",
     "output_type": "stream",
     "text": [
      "Epoch 1/10\n",
      "2411/2410 [==============================] - 46s 19ms/step - loss: 0.0665 - val_loss: 0.0099\n",
      "\n",
      "Epoch 00001: saving model to trained_weights/vgg16_joint/weights_vgg16_joint.01-0.0099.hdf5\n",
      "Epoch 2/10\n",
      "2411/2410 [==============================] - 46s 19ms/step - loss: 0.0095 - val_loss: 0.0095\n",
      "\n",
      "Epoch 00002: saving model to trained_weights/vgg16_joint/weights_vgg16_joint.02-0.0095.hdf5\n",
      "Epoch 3/10\n",
      "2411/2410 [==============================] - 46s 19ms/step - loss: 0.0085 - val_loss: 0.0089\n",
      "\n",
      "Epoch 00003: saving model to trained_weights/vgg16_joint/weights_vgg16_joint.03-0.0089.hdf5\n",
      "Epoch 4/10\n",
      "2411/2410 [==============================] - 46s 19ms/step - loss: 0.0085 - val_loss: 0.0093\n",
      "\n",
      "Epoch 00004: saving model to trained_weights/vgg16_joint/weights_vgg16_joint.04-0.0093.hdf5\n",
      "Epoch 5/10\n",
      "2411/2410 [==============================] - 46s 19ms/step - loss: 0.0082 - val_loss: 0.0090\n",
      "\n",
      "Epoch 00005: saving model to trained_weights/vgg16_joint/weights_vgg16_joint.05-0.0090.hdf5\n",
      "Epoch 6/10\n",
      "2411/2410 [==============================] - 46s 19ms/step - loss: 0.0078 - val_loss: 0.0089\n",
      "\n",
      "Epoch 00006: saving model to trained_weights/vgg16_joint/weights_vgg16_joint.06-0.0089.hdf5\n",
      "Epoch 7/10\n",
      "2411/2410 [==============================] - 46s 19ms/step - loss: 0.0075 - val_loss: 0.0089\n",
      "\n",
      "Epoch 00007: saving model to trained_weights/vgg16_joint/weights_vgg16_joint.07-0.0089.hdf5\n",
      "Epoch 8/10\n",
      "2411/2410 [==============================] - 46s 19ms/step - loss: 0.0072 - val_loss: 0.0095\n",
      "\n",
      "Epoch 00008: saving model to trained_weights/vgg16_joint/weights_vgg16_joint.08-0.0095.hdf5\n",
      "Epoch 9/10\n",
      "2411/2410 [==============================] - 46s 19ms/step - loss: 0.0071 - val_loss: 0.0094\n",
      "\n",
      "Epoch 00009: saving model to trained_weights/vgg16_joint/weights_vgg16_joint.09-0.0094.hdf5\n",
      "Epoch 10/10\n",
      "2411/2410 [==============================] - 46s 19ms/step - loss: 0.0068 - val_loss: 0.0095\n",
      "\n",
      "Epoch 00010: saving model to trained_weights/vgg16_joint/weights_vgg16_joint.10-0.0095.hdf5\n"
     ]
    }
   ],
   "source": [
    "history_vgg16_joint = model_vgg16_joint.fit_generator(train_generator_joint, steps_per_epoch=len(train_df_joint)/BATCH_SIZE,\n",
    "                                                        validation_data=val_generator,\n",
    "                                       validation_steps=len(test_df)/BATCH_SIZE, epochs=10, callbacks=[saver])"
   ]
  },
  {
   "cell_type": "markdown",
   "metadata": {},
   "source": [
    "### Train NVIDIA-model on joint dataset"
   ]
  },
  {
   "cell_type": "code",
   "execution_count": 69,
   "metadata": {},
   "outputs": [],
   "source": [
    "saving_path = os.path.join(MODEL_SAVING_PATH, 'nvidia_joint', 'weights_nvidia_joint.{epoch:02d}-{val_loss:.4f}.hdf5')\n",
    "saver = ModelCheckpoint(saving_path, verbose=1, save_weights_only=True)"
   ]
  },
  {
   "cell_type": "code",
   "execution_count": 70,
   "metadata": {},
   "outputs": [],
   "source": [
    "model_nvidia_joint = get_model('NVIDIA')\n",
    "model_nvidia_joint.compile(optimizer='adam', loss='mse')"
   ]
  },
  {
   "cell_type": "code",
   "execution_count": 71,
   "metadata": {},
   "outputs": [
    {
     "name": "stdout",
     "output_type": "stream",
     "text": [
      "Epoch 1/10\n",
      "2411/2410 [==============================] - 37s 15ms/step - loss: 0.3003 - val_loss: 0.0110\n",
      "\n",
      "Epoch 00001: saving model to trained_weights/nvidia_joint/weights_nvidia_joint.01-0.0110.hdf5\n",
      "Epoch 2/10\n",
      "2411/2410 [==============================] - 36s 15ms/step - loss: 0.0094 - val_loss: 0.0108\n",
      "\n",
      "Epoch 00002: saving model to trained_weights/nvidia_joint/weights_nvidia_joint.02-0.0108.hdf5\n",
      "Epoch 3/10\n",
      "2411/2410 [==============================] - 36s 15ms/step - loss: 0.0090 - val_loss: 0.0145\n",
      "\n",
      "Epoch 00003: saving model to trained_weights/nvidia_joint/weights_nvidia_joint.03-0.0145.hdf5\n",
      "Epoch 4/10\n",
      "2411/2410 [==============================] - 36s 15ms/step - loss: 0.0086 - val_loss: 0.0194\n",
      "\n",
      "Epoch 00004: saving model to trained_weights/nvidia_joint/weights_nvidia_joint.04-0.0194.hdf5\n",
      "Epoch 5/10\n",
      "2411/2410 [==============================] - 36s 15ms/step - loss: 0.0102 - val_loss: 0.0123\n",
      "\n",
      "Epoch 00005: saving model to trained_weights/nvidia_joint/weights_nvidia_joint.05-0.0123.hdf5\n",
      "Epoch 6/10\n",
      "2411/2410 [==============================] - 36s 15ms/step - loss: 0.0102 - val_loss: 0.0136\n",
      "\n",
      "Epoch 00006: saving model to trained_weights/nvidia_joint/weights_nvidia_joint.06-0.0136.hdf5\n",
      "Epoch 7/10\n",
      "2411/2410 [==============================] - 36s 15ms/step - loss: 1148.6888 - val_loss: 0.5850\n",
      "\n",
      "Epoch 00007: saving model to trained_weights/nvidia_joint/weights_nvidia_joint.07-0.5850.hdf5\n",
      "Epoch 8/10\n",
      "2411/2410 [==============================] - 36s 15ms/step - loss: 0.2296 - val_loss: 0.0756\n",
      "\n",
      "Epoch 00008: saving model to trained_weights/nvidia_joint/weights_nvidia_joint.08-0.0756.hdf5\n",
      "Epoch 9/10\n",
      "2411/2410 [==============================] - 36s 15ms/step - loss: 0.0617 - val_loss: 0.0469\n",
      "\n",
      "Epoch 00009: saving model to trained_weights/nvidia_joint/weights_nvidia_joint.09-0.0469.hdf5\n",
      "Epoch 10/10\n",
      "2411/2410 [==============================] - 36s 15ms/step - loss: 0.0639 - val_loss: 0.0447\n",
      "\n",
      "Epoch 00010: saving model to trained_weights/nvidia_joint/weights_nvidia_joint.10-0.0447.hdf5\n"
     ]
    }
   ],
   "source": [
    "history_nvidia_joint = model_nvidia_joint.fit_generator(train_generator_joint, steps_per_epoch=len(train_df_joint)/BATCH_SIZE,\n",
    "                                                        validation_data=val_generator,\n",
    "                                       validation_steps=len(test_df)/BATCH_SIZE, epochs=10, callbacks=[saver])"
   ]
  },
  {
   "cell_type": "markdown",
   "metadata": {},
   "source": [
    "## Make flipping"
   ]
  },
  {
   "cell_type": "code",
   "execution_count": 87,
   "metadata": {},
   "outputs": [],
   "source": [
    "flipped_img_path = os.path.join( 'IMG', 'flipped')"
   ]
  },
  {
   "cell_type": "code",
   "execution_count": 88,
   "metadata": {},
   "outputs": [],
   "source": [
    "filenames = []\n",
    "values = []\n",
    "for i, row in train_df_joint.iterrows():\n",
    "    imgname = row['image']\n",
    "    steering = row['value']\n",
    "    imgname = imgname.strip()\n",
    "    #img = cv2.imread(os.path.join('data',imgname))\n",
    "    #img = cv2.flip(img, flipCode=1)\n",
    "    saving_name = os.path.join(flipped_img_path, os.path.split(imgname)[-1])\n",
    "    #cv2.imwrite(saving_name, img)\n",
    "    filenames.append(saving_name)\n",
    "    values.append(-1*steering)"
   ]
  },
  {
   "cell_type": "code",
   "execution_count": 89,
   "metadata": {},
   "outputs": [],
   "source": [
    "flipped_df = pd.DataFrame({'image': filenames, 'value': values})"
   ]
  },
  {
   "cell_type": "code",
   "execution_count": 90,
   "metadata": {},
   "outputs": [
    {
     "name": "stdout",
     "output_type": "stream",
     "text": [
      "<class 'pandas.core.frame.DataFrame'>\n",
      "RangeIndex: 38568 entries, 0 to 38567\n",
      "Data columns (total 2 columns):\n",
      "image    38568 non-null object\n",
      "value    38568 non-null float64\n",
      "dtypes: float64(1), object(1)\n",
      "memory usage: 602.7+ KB\n"
     ]
    }
   ],
   "source": [
    "flipped_df = pd.concat([train_df_joint, flipped_df], ignore_index=True)\n",
    "flipped_df.info()"
   ]
  },
  {
   "cell_type": "code",
   "execution_count": 92,
   "metadata": {},
   "outputs": [
    {
     "data": {
      "text/html": [
       "<div>\n",
       "<style scoped>\n",
       "    .dataframe tbody tr th:only-of-type {\n",
       "        vertical-align: middle;\n",
       "    }\n",
       "\n",
       "    .dataframe tbody tr th {\n",
       "        vertical-align: top;\n",
       "    }\n",
       "\n",
       "    .dataframe thead th {\n",
       "        text-align: right;\n",
       "    }\n",
       "</style>\n",
       "<table border=\"1\" class=\"dataframe\">\n",
       "  <thead>\n",
       "    <tr style=\"text-align: right;\">\n",
       "      <th></th>\n",
       "      <th>image</th>\n",
       "      <th>value</th>\n",
       "    </tr>\n",
       "  </thead>\n",
       "  <tbody>\n",
       "    <tr>\n",
       "      <th>38563</th>\n",
       "      <td>IMG/flipped/right_2016_12_01_13_41_56_808.jpg</td>\n",
       "      <td>0.059708</td>\n",
       "    </tr>\n",
       "    <tr>\n",
       "      <th>38564</th>\n",
       "      <td>IMG/flipped/right_2016_12_01_13_42_13_486.jpg</td>\n",
       "      <td>0.059708</td>\n",
       "    </tr>\n",
       "    <tr>\n",
       "      <th>38565</th>\n",
       "      <td>IMG/flipped/right_2016_12_01_13_34_05_436.jpg</td>\n",
       "      <td>-0.069032</td>\n",
       "    </tr>\n",
       "    <tr>\n",
       "      <th>38566</th>\n",
       "      <td>IMG/flipped/right_2016_12_01_13_45_57_896.jpg</td>\n",
       "      <td>0.059708</td>\n",
       "    </tr>\n",
       "    <tr>\n",
       "      <th>38567</th>\n",
       "      <td>IMG/flipped/right_2016_12_01_13_45_24_146.jpg</td>\n",
       "      <td>0.059708</td>\n",
       "    </tr>\n",
       "  </tbody>\n",
       "</table>\n",
       "</div>"
      ],
      "text/plain": [
       "                                               image     value\n",
       "38563  IMG/flipped/right_2016_12_01_13_41_56_808.jpg  0.059708\n",
       "38564  IMG/flipped/right_2016_12_01_13_42_13_486.jpg  0.059708\n",
       "38565  IMG/flipped/right_2016_12_01_13_34_05_436.jpg -0.069032\n",
       "38566  IMG/flipped/right_2016_12_01_13_45_57_896.jpg  0.059708\n",
       "38567  IMG/flipped/right_2016_12_01_13_45_24_146.jpg  0.059708"
      ]
     },
     "execution_count": 92,
     "metadata": {},
     "output_type": "execute_result"
    }
   ],
   "source": [
    "flipped_df.tail()"
   ]
  },
  {
   "cell_type": "markdown",
   "metadata": {},
   "source": [
    "### Training models on joint and flipped dataset"
   ]
  },
  {
   "cell_type": "code",
   "execution_count": 93,
   "metadata": {},
   "outputs": [],
   "source": [
    "train_generator_flipped = generator_df(flipped_df, data_columns=['image'], val_column='value', batch_size=BATCH_SIZE)"
   ]
  },
  {
   "cell_type": "code",
   "execution_count": 99,
   "metadata": {},
   "outputs": [],
   "source": [
    "model_vgg16_flipped = get_model('VGG16')\n",
    "model_vgg16_flipped.compile(optimizer='adam', loss='mse')"
   ]
  },
  {
   "cell_type": "code",
   "execution_count": 95,
   "metadata": {},
   "outputs": [],
   "source": [
    "model_nvidia_flipped = get_model('NVIDIA')\n",
    "model_nvidia_flipped.compile(optimizer='adam', loss='mse')"
   ]
  },
  {
   "cell_type": "code",
   "execution_count": 96,
   "metadata": {},
   "outputs": [],
   "source": [
    "saving_path = os.path.join(MODEL_SAVING_PATH, 'vgg16_flipped', 'weights_vgg16_flipped.{epoch:02d}-{val_loss:.4f}.hdf5')\n",
    "saver_vgg = ModelCheckpoint(saving_path, verbose=1, save_weights_only=True)"
   ]
  },
  {
   "cell_type": "code",
   "execution_count": 97,
   "metadata": {},
   "outputs": [],
   "source": [
    "saving_path = os.path.join(MODEL_SAVING_PATH, 'nvidia_flipped', 'weights_nvidia_flipped.{epoch:02d}-{val_loss:.4f}.hdf5')\n",
    "saver_nvidia = ModelCheckpoint(saving_path, verbose=1, save_weights_only=True)"
   ]
  },
  {
   "cell_type": "code",
   "execution_count": 100,
   "metadata": {},
   "outputs": [
    {
     "name": "stdout",
     "output_type": "stream",
     "text": [
      "Epoch 1/10\n",
      "4821/4821 [==============================] - 101s 21ms/step - loss: 0.0274 - val_loss: 0.0105\n",
      "\n",
      "Epoch 00001: saving model to trained_weights/vgg16_flipped/weights_vgg16_flipped.01-0.0105.hdf5\n",
      "Epoch 2/10\n",
      "4821/4821 [==============================] - 100s 21ms/step - loss: 0.0093 - val_loss: 0.0097\n",
      "\n",
      "Epoch 00002: saving model to trained_weights/vgg16_flipped/weights_vgg16_flipped.02-0.0097.hdf5\n",
      "Epoch 3/10\n",
      "4821/4821 [==============================] - 100s 21ms/step - loss: 0.0089 - val_loss: 0.0088\n",
      "\n",
      "Epoch 00003: saving model to trained_weights/vgg16_flipped/weights_vgg16_flipped.03-0.0088.hdf5\n",
      "Epoch 4/10\n",
      "4821/4821 [==============================] - 100s 21ms/step - loss: 0.0084 - val_loss: 0.0086\n",
      "\n",
      "Epoch 00004: saving model to trained_weights/vgg16_flipped/weights_vgg16_flipped.04-0.0086.hdf5\n",
      "Epoch 5/10\n",
      "4821/4821 [==============================] - 100s 21ms/step - loss: 0.0080 - val_loss: 0.0086\n",
      "\n",
      "Epoch 00005: saving model to trained_weights/vgg16_flipped/weights_vgg16_flipped.05-0.0086.hdf5\n",
      "Epoch 6/10\n",
      "4821/4821 [==============================] - 100s 21ms/step - loss: 0.0077 - val_loss: 0.0085\n",
      "\n",
      "Epoch 00006: saving model to trained_weights/vgg16_flipped/weights_vgg16_flipped.06-0.0085.hdf5\n",
      "Epoch 7/10\n",
      "4821/4821 [==============================] - 100s 21ms/step - loss: 0.0076 - val_loss: 0.0085\n",
      "\n",
      "Epoch 00007: saving model to trained_weights/vgg16_flipped/weights_vgg16_flipped.07-0.0085.hdf5\n",
      "Epoch 8/10\n",
      "4821/4821 [==============================] - 100s 21ms/step - loss: 0.0073 - val_loss: 0.0086\n",
      "\n",
      "Epoch 00008: saving model to trained_weights/vgg16_flipped/weights_vgg16_flipped.08-0.0086.hdf5\n",
      "Epoch 9/10\n",
      "4821/4821 [==============================] - 100s 21ms/step - loss: 0.0071 - val_loss: 0.0086\n",
      "\n",
      "Epoch 00009: saving model to trained_weights/vgg16_flipped/weights_vgg16_flipped.09-0.0086.hdf5\n",
      "Epoch 10/10\n",
      "4821/4821 [==============================] - 100s 21ms/step - loss: 0.0070 - val_loss: 0.0088\n",
      "\n",
      "Epoch 00010: saving model to trained_weights/vgg16_flipped/weights_vgg16_flipped.10-0.0088.hdf5\n"
     ]
    }
   ],
   "source": [
    "history_vgg16_flipped = model_vgg16_flipped.fit_generator(train_generator_flipped, steps_per_epoch=len(flipped_df)/BATCH_SIZE,\n",
    "                                     validation_data = val_generator, validation_steps=len(test_df)/BATCH_SIZE,\n",
    "                                 callbacks=[saver_vgg], epochs=10)"
   ]
  },
  {
   "cell_type": "code",
   "execution_count": 101,
   "metadata": {},
   "outputs": [
    {
     "name": "stdout",
     "output_type": "stream",
     "text": [
      "Epoch 1/10\n",
      "4821/4821 [==============================] - 75s 15ms/step - loss: 0.0926 - val_loss: 0.0127\n",
      "\n",
      "Epoch 00001: saving model to trained_weights/nvidia_flipped/weights_nvidia_flipped.01-0.0127.hdf5\n",
      "Epoch 2/10\n",
      "4821/4821 [==============================] - 73s 15ms/step - loss: 0.0121 - val_loss: 0.0139\n",
      "\n",
      "Epoch 00002: saving model to trained_weights/nvidia_flipped/weights_nvidia_flipped.02-0.0139.hdf5\n",
      "Epoch 3/10\n",
      "4821/4821 [==============================] - 73s 15ms/step - loss: 0.0129 - val_loss: 0.0166\n",
      "\n",
      "Epoch 00003: saving model to trained_weights/nvidia_flipped/weights_nvidia_flipped.03-0.0166.hdf5\n",
      "Epoch 4/10\n",
      "4821/4821 [==============================] - 74s 15ms/step - loss: 1401.7355 - val_loss: 1.6685\n",
      "\n",
      "Epoch 00004: saving model to trained_weights/nvidia_flipped/weights_nvidia_flipped.04-1.6685.hdf5\n",
      "Epoch 5/10\n",
      "4821/4821 [==============================] - 73s 15ms/step - loss: 1.3187 - val_loss: 0.3458\n",
      "\n",
      "Epoch 00005: saving model to trained_weights/nvidia_flipped/weights_nvidia_flipped.05-0.3458.hdf5\n",
      "Epoch 6/10\n",
      "4821/4821 [==============================] - 73s 15ms/step - loss: 0.1029 - val_loss: 0.0382\n",
      "\n",
      "Epoch 00006: saving model to trained_weights/nvidia_flipped/weights_nvidia_flipped.06-0.0382.hdf5\n",
      "Epoch 7/10\n",
      "4821/4821 [==============================] - 73s 15ms/step - loss: 0.0252 - val_loss: 0.0299\n",
      "\n",
      "Epoch 00007: saving model to trained_weights/nvidia_flipped/weights_nvidia_flipped.07-0.0299.hdf5\n",
      "Epoch 8/10\n",
      "4821/4821 [==============================] - 74s 15ms/step - loss: 4535.9729 - val_loss: 0.2767\n",
      "\n",
      "Epoch 00008: saving model to trained_weights/nvidia_flipped/weights_nvidia_flipped.08-0.2767.hdf5\n",
      "Epoch 9/10\n",
      "4821/4821 [==============================] - 74s 15ms/step - loss: 0.1495 - val_loss: 0.0921\n",
      "\n",
      "Epoch 00009: saving model to trained_weights/nvidia_flipped/weights_nvidia_flipped.09-0.0921.hdf5\n",
      "Epoch 10/10\n",
      "4821/4821 [==============================] - 73s 15ms/step - loss: 0.0577 - val_loss: 0.0541\n",
      "\n",
      "Epoch 00010: saving model to trained_weights/nvidia_flipped/weights_nvidia_flipped.10-0.0541.hdf5\n"
     ]
    }
   ],
   "source": [
    "history_nvidia_flipped = model_nvidia_flipped.fit_generator(train_generator_flipped, steps_per_epoch=len(flipped_df)/BATCH_SIZE,\n",
    "                                     validation_data = val_generator, validation_steps=len(test_df)/BATCH_SIZE,\n",
    "                                 callbacks=[saver_nvidia], epochs=10)"
   ]
  },
  {
   "cell_type": "markdown",
   "metadata": {},
   "source": [
    "### Try add another dense layer"
   ]
  },
  {
   "cell_type": "code",
   "execution_count": 106,
   "metadata": {},
   "outputs": [],
   "source": [
    "from vgg16_e import get_VGG16_e"
   ]
  },
  {
   "cell_type": "code",
   "execution_count": 107,
   "metadata": {},
   "outputs": [],
   "source": [
    "model_vgg16e = get_VGG16_e()"
   ]
  },
  {
   "cell_type": "code",
   "execution_count": 108,
   "metadata": {},
   "outputs": [],
   "source": [
    "model_vgg16e.compile(optimizer='adam', loss='mse')"
   ]
  },
  {
   "cell_type": "code",
   "execution_count": 109,
   "metadata": {},
   "outputs": [],
   "source": [
    "saving_path = os.path.join(MODEL_SAVING_PATH, 'vgg16e_flipped', 'weights_vgg16e_flipped.{epoch:02d}-{val_loss:.4f}.hdf5')\n",
    "saver_vgg = ModelCheckpoint(saving_path, verbose=1, save_weights_only=True)"
   ]
  },
  {
   "cell_type": "code",
   "execution_count": 110,
   "metadata": {},
   "outputs": [
    {
     "name": "stdout",
     "output_type": "stream",
     "text": [
      "Epoch 1/10\n",
      "4821/4821 [==============================] - 107s 22ms/step - loss: 0.2014 - val_loss: 0.0108\n",
      "\n",
      "Epoch 00001: saving model to trained_weights/vgg16e_flipped/weights_vgg16e_flipped.01-0.0108.hdf5\n",
      "Epoch 2/10\n",
      "4821/4821 [==============================] - 106s 22ms/step - loss: 0.0119 - val_loss: 0.0116\n",
      "\n",
      "Epoch 00002: saving model to trained_weights/vgg16e_flipped/weights_vgg16e_flipped.02-0.0116.hdf5\n",
      "Epoch 3/10\n",
      "4821/4821 [==============================] - 106s 22ms/step - loss: 0.0113 - val_loss: 0.0113\n",
      "\n",
      "Epoch 00003: saving model to trained_weights/vgg16e_flipped/weights_vgg16e_flipped.03-0.0113.hdf5\n",
      "Epoch 4/10\n",
      "4821/4821 [==============================] - 106s 22ms/step - loss: 0.0094 - val_loss: 0.0097\n",
      "\n",
      "Epoch 00004: saving model to trained_weights/vgg16e_flipped/weights_vgg16e_flipped.04-0.0097.hdf5\n",
      "Epoch 5/10\n",
      "4821/4821 [==============================] - 105s 22ms/step - loss: 0.0088 - val_loss: 0.0089\n",
      "\n",
      "Epoch 00005: saving model to trained_weights/vgg16e_flipped/weights_vgg16e_flipped.05-0.0089.hdf5\n",
      "Epoch 6/10\n",
      "4821/4821 [==============================] - 106s 22ms/step - loss: 0.0084 - val_loss: 0.0086\n",
      "\n",
      "Epoch 00006: saving model to trained_weights/vgg16e_flipped/weights_vgg16e_flipped.06-0.0086.hdf5\n",
      "Epoch 7/10\n",
      "4821/4821 [==============================] - 105s 22ms/step - loss: 0.0082 - val_loss: 0.0086\n",
      "\n",
      "Epoch 00007: saving model to trained_weights/vgg16e_flipped/weights_vgg16e_flipped.07-0.0086.hdf5\n",
      "Epoch 8/10\n",
      "4821/4821 [==============================] - 105s 22ms/step - loss: 0.0080 - val_loss: 0.0087\n",
      "\n",
      "Epoch 00008: saving model to trained_weights/vgg16e_flipped/weights_vgg16e_flipped.08-0.0087.hdf5\n",
      "Epoch 9/10\n",
      "4821/4821 [==============================] - 105s 22ms/step - loss: 0.0079 - val_loss: 0.0086\n",
      "\n",
      "Epoch 00009: saving model to trained_weights/vgg16e_flipped/weights_vgg16e_flipped.09-0.0086.hdf5\n",
      "Epoch 10/10\n",
      "4821/4821 [==============================] - 106s 22ms/step - loss: 0.0078 - val_loss: 0.0086\n",
      "\n",
      "Epoch 00010: saving model to trained_weights/vgg16e_flipped/weights_vgg16e_flipped.10-0.0086.hdf5\n"
     ]
    }
   ],
   "source": [
    "history_vgg16e_flipped = model_vgg16e.fit_generator(train_generator_flipped, steps_per_epoch=len(flipped_df)/BATCH_SIZE,\n",
    "                                     validation_data = val_generator, validation_steps=len(test_df)/BATCH_SIZE,\n",
    "                                 callbacks=[saver_vgg], epochs=10)"
   ]
  },
  {
   "cell_type": "code",
   "execution_count": 112,
   "metadata": {},
   "outputs": [],
   "source": [
    "with open(os.path.join('train_history', 'history_vgg16.json'), 'w') as f:\n",
    "    json.dump(history_vgg16.history, f)"
   ]
  },
  {
   "cell_type": "code",
   "execution_count": 114,
   "metadata": {},
   "outputs": [],
   "source": [
    "with open(os.path.join('train_history', 'history_nvidia.json'), 'w') as f:\n",
    "    json.dump(history_nvidia.history, f)"
   ]
  },
  {
   "cell_type": "code",
   "execution_count": 115,
   "metadata": {},
   "outputs": [],
   "source": [
    "with open(os.path.join('train_history', 'history_vgg16_joint.json'), 'w') as f:\n",
    "    json.dump(history_vgg16_joint.history, f)"
   ]
  },
  {
   "cell_type": "code",
   "execution_count": 116,
   "metadata": {},
   "outputs": [],
   "source": [
    "with open(os.path.join('train_history', 'history_vgg16_flipped.json'), 'w') as f:\n",
    "    json.dump(history_vgg16_flipped.history, f)"
   ]
  },
  {
   "cell_type": "code",
   "execution_count": 117,
   "metadata": {},
   "outputs": [],
   "source": [
    "with open(os.path.join('train_history', 'history_vgg16e_flipped.json'), 'w') as f:\n",
    "    json.dump(history_vgg16e_flipped.history, f)"
   ]
  },
  {
   "cell_type": "code",
   "execution_count": 118,
   "metadata": {},
   "outputs": [],
   "source": [
    "with open(os.path.join('train_history', 'history_nvidia_joint.json'), 'w') as f:\n",
    "    json.dump(history_nvidia_joint.history, f)"
   ]
  },
  {
   "cell_type": "code",
   "execution_count": 119,
   "metadata": {},
   "outputs": [],
   "source": [
    "with open(os.path.join('train_history', 'history_nvidia_flipped.json'), 'w') as f:\n",
    "    json.dump(history_nvidia_flipped.history, f)"
   ]
  },
  {
   "cell_type": "code",
   "execution_count": 125,
   "metadata": {},
   "outputs": [],
   "source": [
    "with open(os.path.join('datasets', 'train_df.p'), 'wb') as f:\n",
    "    pickle.dump(train_df, f)"
   ]
  },
  {
   "cell_type": "code",
   "execution_count": 126,
   "metadata": {},
   "outputs": [],
   "source": [
    "with open(os.path.join('datasets', 'train_df_joint.p'), 'wb') as f:\n",
    "    pickle.dump(train_df_joint, f)"
   ]
  },
  {
   "cell_type": "code",
   "execution_count": 128,
   "metadata": {},
   "outputs": [],
   "source": [
    "with open(os.path.join('datasets', 'train_df_flipped.p'), 'wb') as f:\n",
    "    pickle.dump(flipped_df, f)"
   ]
  },
  {
   "cell_type": "code",
   "execution_count": 129,
   "metadata": {},
   "outputs": [],
   "source": [
    "with open(os.path.join('datasets', 'test_df.p'), 'wb') as f:\n",
    "    pickle.dump(test_df, f)"
   ]
  },
  {
   "cell_type": "code",
   "execution_count": null,
   "metadata": {},
   "outputs": [],
   "source": []
  }
 ],
 "metadata": {
  "kernelspec": {
   "display_name": "Python 3",
   "language": "python",
   "name": "python3"
  },
  "language_info": {
   "codemirror_mode": {
    "name": "ipython",
    "version": 3
   },
   "file_extension": ".py",
   "mimetype": "text/x-python",
   "name": "python",
   "nbconvert_exporter": "python",
   "pygments_lexer": "ipython3",
   "version": "3.6.4"
  }
 },
 "nbformat": 4,
 "nbformat_minor": 2
}
