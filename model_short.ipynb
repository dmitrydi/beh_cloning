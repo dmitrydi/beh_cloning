{
 "cells": [
  {
   "cell_type": "code",
   "execution_count": 1,
   "metadata": {},
   "outputs": [
    {
     "name": "stderr",
     "output_type": "stream",
     "text": [
      "/home/ubuntu/anaconda3/envs/tensorflow_p36/lib/python3.6/site-packages/matplotlib/__init__.py:1067: UserWarning: Duplicate key in file \"/home/ubuntu/.config/matplotlib/matplotlibrc\", line #2\n",
      "  (fname, cnt))\n",
      "/home/ubuntu/anaconda3/envs/tensorflow_p36/lib/python3.6/site-packages/matplotlib/__init__.py:1067: UserWarning: Duplicate key in file \"/home/ubuntu/.config/matplotlib/matplotlibrc\", line #3\n",
      "  (fname, cnt))\n",
      "/home/ubuntu/anaconda3/envs/tensorflow_p36/lib/python3.6/site-packages/h5py/__init__.py:36: FutureWarning: Conversion of the second argument of issubdtype from `float` to `np.floating` is deprecated. In future, it will be treated as `np.float64 == np.dtype(float).type`.\n",
      "  from ._conv import register_converters as _register_converters\n",
      "Using TensorFlow backend.\n"
     ]
    }
   ],
   "source": [
    "import pandas as pd\n",
    "import sklearn\n",
    "import numpy as np\n",
    "import matplotlib.pyplot as plt\n",
    "import keras as K\n",
    "import tensorflow as tf\n",
    "import os, json\n",
    "from scipy import misc\n",
    "import cv2\n",
    "import pickle"
   ]
  },
  {
   "cell_type": "code",
   "execution_count": 2,
   "metadata": {},
   "outputs": [],
   "source": [
    "from cnn_builder import get_model"
   ]
  },
  {
   "cell_type": "code",
   "execution_count": 3,
   "metadata": {},
   "outputs": [],
   "source": [
    "IMAGE_DATA_PATH = './data/simulator_data'"
   ]
  },
  {
   "cell_type": "code",
   "execution_count": 4,
   "metadata": {},
   "outputs": [],
   "source": [
    "image_data = pd.read_csv(os.path.join(IMAGE_DATA_PATH, 'track_data.csv'))"
   ]
  },
  {
   "cell_type": "code",
   "execution_count": 5,
   "metadata": {},
   "outputs": [
    {
     "name": "stdout",
     "output_type": "stream",
     "text": [
      "<class 'pandas.core.frame.DataFrame'>\n",
      "RangeIndex: 32021 entries, 0 to 32020\n",
      "Data columns (total 7 columns):\n",
      "center      32021 non-null object\n",
      "left        32021 non-null object\n",
      "right       32021 non-null object\n",
      "steering    32021 non-null float64\n",
      "throttle    32021 non-null float64\n",
      "brake       32021 non-null float64\n",
      "speed       32021 non-null float64\n",
      "dtypes: float64(4), object(3)\n",
      "memory usage: 1.7+ MB\n"
     ]
    }
   ],
   "source": [
    "image_data.info()"
   ]
  },
  {
   "cell_type": "code",
   "execution_count": 6,
   "metadata": {},
   "outputs": [
    {
     "data": {
      "text/html": [
       "<div>\n",
       "<style scoped>\n",
       "    .dataframe tbody tr th:only-of-type {\n",
       "        vertical-align: middle;\n",
       "    }\n",
       "\n",
       "    .dataframe tbody tr th {\n",
       "        vertical-align: top;\n",
       "    }\n",
       "\n",
       "    .dataframe thead th {\n",
       "        text-align: right;\n",
       "    }\n",
       "</style>\n",
       "<table border=\"1\" class=\"dataframe\">\n",
       "  <thead>\n",
       "    <tr style=\"text-align: right;\">\n",
       "      <th></th>\n",
       "      <th>center</th>\n",
       "      <th>left</th>\n",
       "      <th>right</th>\n",
       "      <th>steering</th>\n",
       "      <th>throttle</th>\n",
       "      <th>brake</th>\n",
       "      <th>speed</th>\n",
       "    </tr>\n",
       "  </thead>\n",
       "  <tbody>\n",
       "    <tr>\n",
       "      <th>0</th>\n",
       "      <td>data/simulator_data/track/run2/IMG/center_2018...</td>\n",
       "      <td>data/simulator_data/track/run2/IMG/left_2018_0...</td>\n",
       "      <td>data/simulator_data/track/run2/IMG/right_2018_...</td>\n",
       "      <td>-0.064378</td>\n",
       "      <td>1.0</td>\n",
       "      <td>0.0</td>\n",
       "      <td>30.19027</td>\n",
       "    </tr>\n",
       "    <tr>\n",
       "      <th>1</th>\n",
       "      <td>data/simulator_data/track/run2/IMG/center_2018...</td>\n",
       "      <td>data/simulator_data/track/run2/IMG/left_2018_0...</td>\n",
       "      <td>data/simulator_data/track/run2/IMG/right_2018_...</td>\n",
       "      <td>-0.064378</td>\n",
       "      <td>1.0</td>\n",
       "      <td>0.0</td>\n",
       "      <td>30.19024</td>\n",
       "    </tr>\n",
       "    <tr>\n",
       "      <th>2</th>\n",
       "      <td>data/simulator_data/track/run2/IMG/center_2018...</td>\n",
       "      <td>data/simulator_data/track/run2/IMG/left_2018_0...</td>\n",
       "      <td>data/simulator_data/track/run2/IMG/right_2018_...</td>\n",
       "      <td>-0.064378</td>\n",
       "      <td>1.0</td>\n",
       "      <td>0.0</td>\n",
       "      <td>30.19022</td>\n",
       "    </tr>\n",
       "    <tr>\n",
       "      <th>3</th>\n",
       "      <td>data/simulator_data/track/run2/IMG/center_2018...</td>\n",
       "      <td>data/simulator_data/track/run2/IMG/left_2018_0...</td>\n",
       "      <td>data/simulator_data/track/run2/IMG/right_2018_...</td>\n",
       "      <td>-0.064378</td>\n",
       "      <td>1.0</td>\n",
       "      <td>0.0</td>\n",
       "      <td>30.19008</td>\n",
       "    </tr>\n",
       "    <tr>\n",
       "      <th>4</th>\n",
       "      <td>data/simulator_data/track/run2/IMG/center_2018...</td>\n",
       "      <td>data/simulator_data/track/run2/IMG/left_2018_0...</td>\n",
       "      <td>data/simulator_data/track/run2/IMG/right_2018_...</td>\n",
       "      <td>-0.038627</td>\n",
       "      <td>1.0</td>\n",
       "      <td>0.0</td>\n",
       "      <td>30.19044</td>\n",
       "    </tr>\n",
       "  </tbody>\n",
       "</table>\n",
       "</div>"
      ],
      "text/plain": [
       "                                              center  \\\n",
       "0  data/simulator_data/track/run2/IMG/center_2018...   \n",
       "1  data/simulator_data/track/run2/IMG/center_2018...   \n",
       "2  data/simulator_data/track/run2/IMG/center_2018...   \n",
       "3  data/simulator_data/track/run2/IMG/center_2018...   \n",
       "4  data/simulator_data/track/run2/IMG/center_2018...   \n",
       "\n",
       "                                                left  \\\n",
       "0  data/simulator_data/track/run2/IMG/left_2018_0...   \n",
       "1  data/simulator_data/track/run2/IMG/left_2018_0...   \n",
       "2  data/simulator_data/track/run2/IMG/left_2018_0...   \n",
       "3  data/simulator_data/track/run2/IMG/left_2018_0...   \n",
       "4  data/simulator_data/track/run2/IMG/left_2018_0...   \n",
       "\n",
       "                                               right  steering  throttle  \\\n",
       "0  data/simulator_data/track/run2/IMG/right_2018_... -0.064378       1.0   \n",
       "1  data/simulator_data/track/run2/IMG/right_2018_... -0.064378       1.0   \n",
       "2  data/simulator_data/track/run2/IMG/right_2018_... -0.064378       1.0   \n",
       "3  data/simulator_data/track/run2/IMG/right_2018_... -0.064378       1.0   \n",
       "4  data/simulator_data/track/run2/IMG/right_2018_... -0.038627       1.0   \n",
       "\n",
       "   brake     speed  \n",
       "0    0.0  30.19027  \n",
       "1    0.0  30.19024  \n",
       "2    0.0  30.19022  \n",
       "3    0.0  30.19008  \n",
       "4    0.0  30.19044  "
      ]
     },
     "execution_count": 6,
     "metadata": {},
     "output_type": "execute_result"
    }
   ],
   "source": [
    "image_data.head()"
   ]
  },
  {
   "cell_type": "markdown",
   "metadata": {},
   "source": [
    "### Train-test split "
   ]
  },
  {
   "cell_type": "code",
   "execution_count": 7,
   "metadata": {},
   "outputs": [
    {
     "name": "stderr",
     "output_type": "stream",
     "text": [
      "/home/ubuntu/anaconda3/envs/tensorflow_p36/lib/python3.6/site-packages/sklearn/model_selection/_split.py:2026: FutureWarning: From version 0.21, test_size will always complement train_size unless both are specified.\n",
      "  FutureWarning)\n"
     ]
    }
   ],
   "source": [
    "from sklearn.model_selection import train_test_split\n",
    "from sklearn.utils import shuffle\n",
    "ind_train, ind_test = train_test_split(np.array(range(len(image_data))), train_size=0.8, random_state = 42)"
   ]
  },
  {
   "cell_type": "code",
   "execution_count": 8,
   "metadata": {},
   "outputs": [],
   "source": [
    "train_df = image_data.loc[ind_train]\n",
    "test_df = image_data.loc[ind_test]"
   ]
  },
  {
   "cell_type": "markdown",
   "metadata": {},
   "source": [
    "### Make flipping"
   ]
  },
  {
   "cell_type": "code",
   "execution_count": 9,
   "metadata": {},
   "outputs": [],
   "source": [
    "flipped_img_path = os.path.join( 'data/simulator_data/track/flip_init')"
   ]
  },
  {
   "cell_type": "code",
   "execution_count": 11,
   "metadata": {},
   "outputs": [],
   "source": [
    "filenames = []\n",
    "values = []\n",
    "for i, row in train_df.iterrows():\n",
    "    imgname = row['center']\n",
    "    steering = row['steering']\n",
    "    imgname = imgname.strip()\n",
    "    img = cv2.imread(os.path.join(imgname))\n",
    "    img = cv2.flip(img, flipCode=1)\n",
    "    saving_name = os.path.join(flipped_img_path, os.path.split(imgname)[-1])\n",
    "    cv2.imwrite(saving_name, img)\n",
    "    filenames.append(saving_name)\n",
    "    values.append(-1*steering)"
   ]
  },
  {
   "cell_type": "code",
   "execution_count": 12,
   "metadata": {},
   "outputs": [],
   "source": [
    "flipped_df = pd.DataFrame({'center': filenames, 'steering': values})"
   ]
  },
  {
   "cell_type": "code",
   "execution_count": 13,
   "metadata": {},
   "outputs": [],
   "source": [
    "flipped_init_df = pd.concat([train_df, flipped_df], ignore_index=True)"
   ]
  },
  {
   "cell_type": "code",
   "execution_count": 14,
   "metadata": {},
   "outputs": [
    {
     "data": {
      "text/html": [
       "<div>\n",
       "<style scoped>\n",
       "    .dataframe tbody tr th:only-of-type {\n",
       "        vertical-align: middle;\n",
       "    }\n",
       "\n",
       "    .dataframe tbody tr th {\n",
       "        vertical-align: top;\n",
       "    }\n",
       "\n",
       "    .dataframe thead th {\n",
       "        text-align: right;\n",
       "    }\n",
       "</style>\n",
       "<table border=\"1\" class=\"dataframe\">\n",
       "  <thead>\n",
       "    <tr style=\"text-align: right;\">\n",
       "      <th></th>\n",
       "      <th>brake</th>\n",
       "      <th>center</th>\n",
       "      <th>left</th>\n",
       "      <th>right</th>\n",
       "      <th>speed</th>\n",
       "      <th>steering</th>\n",
       "      <th>throttle</th>\n",
       "    </tr>\n",
       "  </thead>\n",
       "  <tbody>\n",
       "    <tr>\n",
       "      <th>51227</th>\n",
       "      <td>NaN</td>\n",
       "      <td>data/simulator_data/track/flip_init/center_201...</td>\n",
       "      <td>NaN</td>\n",
       "      <td>NaN</td>\n",
       "      <td>NaN</td>\n",
       "      <td>-0.085837</td>\n",
       "      <td>NaN</td>\n",
       "    </tr>\n",
       "    <tr>\n",
       "      <th>51228</th>\n",
       "      <td>NaN</td>\n",
       "      <td>data/simulator_data/track/flip_init/center_201...</td>\n",
       "      <td>NaN</td>\n",
       "      <td>NaN</td>\n",
       "      <td>NaN</td>\n",
       "      <td>0.025751</td>\n",
       "      <td>NaN</td>\n",
       "    </tr>\n",
       "    <tr>\n",
       "      <th>51229</th>\n",
       "      <td>NaN</td>\n",
       "      <td>data/simulator_data/track/flip_init/center_201...</td>\n",
       "      <td>NaN</td>\n",
       "      <td>NaN</td>\n",
       "      <td>NaN</td>\n",
       "      <td>0.231760</td>\n",
       "      <td>NaN</td>\n",
       "    </tr>\n",
       "    <tr>\n",
       "      <th>51230</th>\n",
       "      <td>NaN</td>\n",
       "      <td>data/simulator_data/track/flip_init/center_201...</td>\n",
       "      <td>NaN</td>\n",
       "      <td>NaN</td>\n",
       "      <td>NaN</td>\n",
       "      <td>0.068670</td>\n",
       "      <td>NaN</td>\n",
       "    </tr>\n",
       "    <tr>\n",
       "      <th>51231</th>\n",
       "      <td>NaN</td>\n",
       "      <td>data/simulator_data/track/flip_init/center_201...</td>\n",
       "      <td>NaN</td>\n",
       "      <td>NaN</td>\n",
       "      <td>NaN</td>\n",
       "      <td>-0.060086</td>\n",
       "      <td>NaN</td>\n",
       "    </tr>\n",
       "  </tbody>\n",
       "</table>\n",
       "</div>"
      ],
      "text/plain": [
       "       brake                                             center left right  \\\n",
       "51227    NaN  data/simulator_data/track/flip_init/center_201...  NaN   NaN   \n",
       "51228    NaN  data/simulator_data/track/flip_init/center_201...  NaN   NaN   \n",
       "51229    NaN  data/simulator_data/track/flip_init/center_201...  NaN   NaN   \n",
       "51230    NaN  data/simulator_data/track/flip_init/center_201...  NaN   NaN   \n",
       "51231    NaN  data/simulator_data/track/flip_init/center_201...  NaN   NaN   \n",
       "\n",
       "       speed  steering  throttle  \n",
       "51227    NaN -0.085837       NaN  \n",
       "51228    NaN  0.025751       NaN  \n",
       "51229    NaN  0.231760       NaN  \n",
       "51230    NaN  0.068670       NaN  \n",
       "51231    NaN -0.060086       NaN  "
      ]
     },
     "execution_count": 14,
     "metadata": {},
     "output_type": "execute_result"
    }
   ],
   "source": [
    "flipped_init_df.tail()"
   ]
  },
  {
   "cell_type": "code",
   "execution_count": 15,
   "metadata": {},
   "outputs": [
    {
     "data": {
      "text/html": [
       "<div>\n",
       "<style scoped>\n",
       "    .dataframe tbody tr th:only-of-type {\n",
       "        vertical-align: middle;\n",
       "    }\n",
       "\n",
       "    .dataframe tbody tr th {\n",
       "        vertical-align: top;\n",
       "    }\n",
       "\n",
       "    .dataframe thead th {\n",
       "        text-align: right;\n",
       "    }\n",
       "</style>\n",
       "<table border=\"1\" class=\"dataframe\">\n",
       "  <thead>\n",
       "    <tr style=\"text-align: right;\">\n",
       "      <th></th>\n",
       "      <th>brake</th>\n",
       "      <th>center</th>\n",
       "      <th>left</th>\n",
       "      <th>right</th>\n",
       "      <th>speed</th>\n",
       "      <th>steering</th>\n",
       "      <th>throttle</th>\n",
       "    </tr>\n",
       "  </thead>\n",
       "  <tbody>\n",
       "    <tr>\n",
       "      <th>0</th>\n",
       "      <td>0.0</td>\n",
       "      <td>data/simulator_data/track/run3-back/IMG/center...</td>\n",
       "      <td>data/simulator_data/track/run3-back/IMG/left_2...</td>\n",
       "      <td>data/simulator_data/track/run3-back/IMG/right_...</td>\n",
       "      <td>20.94395</td>\n",
       "      <td>-0.240343</td>\n",
       "      <td>0.066289</td>\n",
       "    </tr>\n",
       "    <tr>\n",
       "      <th>1</th>\n",
       "      <td>0.0</td>\n",
       "      <td>data/simulator_data/track/run-5/IMG/center_201...</td>\n",
       "      <td>data/simulator_data/track/run-5/IMG/left_2018_...</td>\n",
       "      <td>data/simulator_data/track/run-5/IMG/right_2018...</td>\n",
       "      <td>21.90985</td>\n",
       "      <td>-0.326180</td>\n",
       "      <td>0.000000</td>\n",
       "    </tr>\n",
       "    <tr>\n",
       "      <th>2</th>\n",
       "      <td>0.0</td>\n",
       "      <td>data/simulator_data/track/run3-back/IMG/center...</td>\n",
       "      <td>data/simulator_data/track/run3-back/IMG/left_2...</td>\n",
       "      <td>data/simulator_data/track/run3-back/IMG/right_...</td>\n",
       "      <td>30.19028</td>\n",
       "      <td>0.025751</td>\n",
       "      <td>1.000000</td>\n",
       "    </tr>\n",
       "    <tr>\n",
       "      <th>3</th>\n",
       "      <td>0.0</td>\n",
       "      <td>data/simulator_data/track/run-6/IMG/center_201...</td>\n",
       "      <td>data/simulator_data/track/run-6/IMG/left_2018_...</td>\n",
       "      <td>data/simulator_data/track/run-6/IMG/right_2018...</td>\n",
       "      <td>27.61868</td>\n",
       "      <td>0.154506</td>\n",
       "      <td>0.000000</td>\n",
       "    </tr>\n",
       "    <tr>\n",
       "      <th>4</th>\n",
       "      <td>0.0</td>\n",
       "      <td>data/simulator_data/track/run3-back/IMG/center...</td>\n",
       "      <td>data/simulator_data/track/run3-back/IMG/left_2...</td>\n",
       "      <td>data/simulator_data/track/run3-back/IMG/right_...</td>\n",
       "      <td>27.81060</td>\n",
       "      <td>0.111588</td>\n",
       "      <td>0.000000</td>\n",
       "    </tr>\n",
       "  </tbody>\n",
       "</table>\n",
       "</div>"
      ],
      "text/plain": [
       "   brake                                             center  \\\n",
       "0    0.0  data/simulator_data/track/run3-back/IMG/center...   \n",
       "1    0.0  data/simulator_data/track/run-5/IMG/center_201...   \n",
       "2    0.0  data/simulator_data/track/run3-back/IMG/center...   \n",
       "3    0.0  data/simulator_data/track/run-6/IMG/center_201...   \n",
       "4    0.0  data/simulator_data/track/run3-back/IMG/center...   \n",
       "\n",
       "                                                left  \\\n",
       "0  data/simulator_data/track/run3-back/IMG/left_2...   \n",
       "1  data/simulator_data/track/run-5/IMG/left_2018_...   \n",
       "2  data/simulator_data/track/run3-back/IMG/left_2...   \n",
       "3  data/simulator_data/track/run-6/IMG/left_2018_...   \n",
       "4  data/simulator_data/track/run3-back/IMG/left_2...   \n",
       "\n",
       "                                               right     speed  steering  \\\n",
       "0  data/simulator_data/track/run3-back/IMG/right_...  20.94395 -0.240343   \n",
       "1  data/simulator_data/track/run-5/IMG/right_2018...  21.90985 -0.326180   \n",
       "2  data/simulator_data/track/run3-back/IMG/right_...  30.19028  0.025751   \n",
       "3  data/simulator_data/track/run-6/IMG/right_2018...  27.61868  0.154506   \n",
       "4  data/simulator_data/track/run3-back/IMG/right_...  27.81060  0.111588   \n",
       "\n",
       "   throttle  \n",
       "0  0.066289  \n",
       "1  0.000000  \n",
       "2  1.000000  \n",
       "3  0.000000  \n",
       "4  0.000000  "
      ]
     },
     "execution_count": 15,
     "metadata": {},
     "output_type": "execute_result"
    }
   ],
   "source": [
    "flipped_init_df.head()"
   ]
  },
  {
   "cell_type": "code",
   "execution_count": 16,
   "metadata": {},
   "outputs": [
    {
     "name": "stdout",
     "output_type": "stream",
     "text": [
      "<class 'pandas.core.frame.DataFrame'>\n",
      "RangeIndex: 51232 entries, 0 to 51231\n",
      "Data columns (total 7 columns):\n",
      "brake       25616 non-null float64\n",
      "center      51232 non-null object\n",
      "left        25616 non-null object\n",
      "right       25616 non-null object\n",
      "speed       25616 non-null float64\n",
      "steering    51232 non-null float64\n",
      "throttle    25616 non-null float64\n",
      "dtypes: float64(4), object(3)\n",
      "memory usage: 2.7+ MB\n"
     ]
    }
   ],
   "source": [
    "flipped_init_df.info()"
   ]
  },
  {
   "cell_type": "markdown",
   "metadata": {},
   "source": [
    "### Training the models"
   ]
  },
  {
   "cell_type": "code",
   "execution_count": 17,
   "metadata": {},
   "outputs": [],
   "source": [
    "def generator_df(samples_df_, source_path='data', data_columns = ['center'], val_column = 'steering', batch_size=4):\n",
    "# yields batches from dataframe samples_df: ['images', 'steering']\n",
    "    samples_df = samples_df_.copy()\n",
    "    num_samples = len(samples_df)\n",
    "    while 1: # Loop forever so the generator never terminates\n",
    "        shuffle(samples_df)\n",
    "        for offset in range(0, num_samples, batch_size):\n",
    "            batch_samples = samples_df[offset:offset+batch_size]\n",
    "\n",
    "            images = None\n",
    "            angles = np.array([], dtype='float32')\n",
    "            for i, batch_sample in batch_samples.iterrows():\n",
    "                name = batch_sample[np.random.choice(data_columns, 1)].values[0]\n",
    "                name = name.strip()\n",
    "                center_image = cv2.imread(os.path.join(source_path,name))\n",
    "                if center_image is not None:\n",
    "                    center_angle = batch_sample[val_column]\n",
    "                    if images is None:\n",
    "                        images = center_image[np.newaxis]\n",
    "                    else:\n",
    "                        images = np.vstack([images, center_image[np.newaxis]])\n",
    "                    angles = np.append(angles, center_angle)\n",
    "\n",
    "            yield images, angles"
   ]
  },
  {
   "cell_type": "code",
   "execution_count": 18,
   "metadata": {},
   "outputs": [],
   "source": [
    "def predict_generator_df(samples_df_, source_path='data', data_columns = ['center'], batch_size=4):\n",
    "# yields batches for predictions, no shuffling\n",
    "    samples_df = samples_df_.copy()\n",
    "    num_samples = len(samples_df)\n",
    "    while 1: # Loop forever so the generator never terminates\n",
    "        for offset in range(0, num_samples, batch_size):\n",
    "            batch_samples = samples_df[offset:offset+batch_size]\n",
    "\n",
    "            images = None\n",
    "            angles = np.array([], dtype='float32')\n",
    "            for i, batch_sample in batch_samples.iterrows():\n",
    "                name = batch_sample[np.random.choice(data_columns, 1)].values[0]\n",
    "                name = name.strip()\n",
    "                center_image = cv2.imread(os.path.join(source_path,name))\n",
    "                center_angle = batch_sample['steering']\n",
    "                if images is None:\n",
    "                    images = center_image[np.newaxis]\n",
    "                else:\n",
    "                    images = np.vstack([images, center_image[np.newaxis]])\n",
    "                angles = np.append(angles, center_angle)\n",
    "\n",
    "            yield images"
   ]
  },
  {
   "cell_type": "code",
   "execution_count": 24,
   "metadata": {},
   "outputs": [],
   "source": [
    "BATCH_SIZE = 8\n",
    "train_generator = generator_df(flipped_init_df, source_path='', batch_size=BATCH_SIZE)\n",
    "val_generator = generator_df(test_df, source_path='', batch_size=BATCH_SIZE)"
   ]
  },
  {
   "cell_type": "markdown",
   "metadata": {},
   "source": [
    "#### Training VGG16-based model"
   ]
  },
  {
   "cell_type": "code",
   "execution_count": 25,
   "metadata": {},
   "outputs": [],
   "source": [
    "MODEL_SAVING_PATH = 'trained_weights/my_w/vgg16_center'\n",
    "from keras.callbacks import ModelCheckpoint"
   ]
  },
  {
   "cell_type": "code",
   "execution_count": 26,
   "metadata": {},
   "outputs": [],
   "source": [
    "saving_path = os.path.join(MODEL_SAVING_PATH, 'weights_vgg16e_center.{epoch:02d}-{val_loss:.4f}.hdf5')\n",
    "saver = ModelCheckpoint(saving_path, verbose=1, save_weights_only=True)"
   ]
  },
  {
   "cell_type": "code",
   "execution_count": 27,
   "metadata": {},
   "outputs": [],
   "source": [
    "model_vgg16 = get_model('VGG16_e')\n",
    "model_vgg16.compile(loss='mse', optimizer='adam')"
   ]
  },
  {
   "cell_type": "code",
   "execution_count": 29,
   "metadata": {},
   "outputs": [
    {
     "name": "stdout",
     "output_type": "stream",
     "text": [
      "Epoch 1/10\n",
      "6404/6404 [==============================] - 150s 23ms/step - loss: 0.0079 - val_loss: 0.0081\n",
      "\n",
      "Epoch 00001: saving model to trained_weights/my_w/vgg16_center/weights_vgg16e_center.01-0.0081.hdf5\n",
      "Epoch 2/10\n",
      "6404/6404 [==============================] - 150s 23ms/step - loss: 0.0082 - val_loss: 0.0062\n",
      "\n",
      "Epoch 00002: saving model to trained_weights/my_w/vgg16_center/weights_vgg16e_center.02-0.0062.hdf5\n",
      "Epoch 3/10\n",
      "6404/6404 [==============================] - 150s 23ms/step - loss: 0.0066 - val_loss: 0.0059\n",
      "\n",
      "Epoch 00003: saving model to trained_weights/my_w/vgg16_center/weights_vgg16e_center.03-0.0059.hdf5\n",
      "Epoch 4/10\n",
      "6404/6404 [==============================] - 150s 23ms/step - loss: 0.0058 - val_loss: 0.0057\n",
      "\n",
      "Epoch 00004: saving model to trained_weights/my_w/vgg16_center/weights_vgg16e_center.04-0.0057.hdf5\n",
      "Epoch 5/10\n",
      "6404/6404 [==============================] - 150s 23ms/step - loss: 0.0054 - val_loss: 0.0053\n",
      "\n",
      "Epoch 00005: saving model to trained_weights/my_w/vgg16_center/weights_vgg16e_center.05-0.0053.hdf5\n",
      "Epoch 6/10\n",
      "6404/6404 [==============================] - 150s 23ms/step - loss: 0.0051 - val_loss: 0.0051\n",
      "\n",
      "Epoch 00006: saving model to trained_weights/my_w/vgg16_center/weights_vgg16e_center.06-0.0051.hdf5\n",
      "Epoch 7/10\n",
      "6404/6404 [==============================] - 150s 23ms/step - loss: 0.0049 - val_loss: 0.0050\n",
      "\n",
      "Epoch 00007: saving model to trained_weights/my_w/vgg16_center/weights_vgg16e_center.07-0.0050.hdf5\n",
      "Epoch 8/10\n",
      "6404/6404 [==============================] - 150s 23ms/step - loss: 0.0047 - val_loss: 0.0049\n",
      "\n",
      "Epoch 00008: saving model to trained_weights/my_w/vgg16_center/weights_vgg16e_center.08-0.0049.hdf5\n",
      "Epoch 9/10\n",
      "6404/6404 [==============================] - 150s 23ms/step - loss: 0.0046 - val_loss: 0.0049\n",
      "\n",
      "Epoch 00009: saving model to trained_weights/my_w/vgg16_center/weights_vgg16e_center.09-0.0049.hdf5\n",
      "Epoch 10/10\n",
      "6404/6404 [==============================] - 150s 23ms/step - loss: 0.0045 - val_loss: 0.0048\n",
      "\n",
      "Epoch 00010: saving model to trained_weights/my_w/vgg16_center/weights_vgg16e_center.10-0.0048.hdf5\n"
     ]
    }
   ],
   "source": [
    "history_vgg16 = model_vgg16.fit_generator(train_generator, steps_per_epoch=len(flipped_init_df)/BATCH_SIZE, validation_data=val_generator,\n",
    "                                       validation_steps=len(test_df)/BATCH_SIZE, epochs=10, callbacks=[saver])"
   ]
  },
  {
   "cell_type": "code",
   "execution_count": 1,
   "metadata": {},
   "outputs": [],
   "source": [
    "loss = [0.0081, 0.0062, 0.0059, 0.0057, 0.0053,0.0051,0.0050,0.0049,0.0048]"
   ]
  },
  {
   "cell_type": "code",
   "execution_count": 2,
   "metadata": {},
   "outputs": [],
   "source": [
    "import matplotlib.pyplot as plt"
   ]
  },
  {
   "cell_type": "code",
   "execution_count": 3,
   "metadata": {},
   "outputs": [
    {
     "data": {
      "text/plain": [
       "[<matplotlib.lines.Line2D at 0x7ff1f560c160>]"
      ]
     },
     "execution_count": 3,
     "metadata": {},
     "output_type": "execute_result"
    },
    {
     "data": {
      "image/png": "[encoded data removed]",
      "text/plain": [
       "<Figure size 432x288 with 1 Axes>"
      ]
     },
     "metadata": {},
     "output_type": "display_data"
    }
   ],
   "source": [
    "plt.plot(loss)"
   ]
  },
  {
   "cell_type": "code",
   "execution_count": null,
   "metadata": {},
   "outputs": [],
   "source": []
  }
 ],
 "metadata": {
  "kernelspec": {
   "display_name": "Python 3",
   "language": "python",
   "name": "python3"
  },
  "language_info": {
   "codemirror_mode": {
    "name": "ipython",
    "version": 3
   },
   "file_extension": ".py",
   "mimetype": "text/x-python",
   "name": "python",
   "nbconvert_exporter": "python",
   "pygments_lexer": "ipython3",
   "version": "3.6.4"
  }
 },
 "nbformat": 4,
 "nbformat_minor": 2
}
